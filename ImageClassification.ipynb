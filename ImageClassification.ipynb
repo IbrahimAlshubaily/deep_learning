{
  "nbformat": 4,
  "nbformat_minor": 0,
  "metadata": {
    "colab": {
      "name": "Project_Image_Classification_Alshubaily_Ibrahim.ipynb",
      "provenance": [],
      "collapsed_sections": [],
      "toc_visible": true
    },
    "kernelspec": {
      "display_name": "Python [conda env:pytorch] *",
      "language": "python",
      "name": "conda-env-pytorch-py"
    },
    "language_info": {
      "codemirror_mode": {
        "name": "ipython",
        "version": 3
      },
      "file_extension": ".py",
      "mimetype": "text/x-python",
      "name": "python",
      "nbconvert_exporter": "python",
      "pygments_lexer": "ipython3",
      "version": "3.7.4"
    },
    "accelerator": "GPU"
  },
  "cells": [
    {
      "cell_type": "markdown",
      "metadata": {
        "colab_type": "text",
        "id": "quHwuvnL_N9o"
      },
      "source": [
        "# Project 1: Image Classification"
      ]
    },
    {
      "cell_type": "markdown",
      "metadata": {
        "colab_type": "text",
        "id": "1JWfOd3AVO9J"
      },
      "source": [
        "## Task 0: Getting Started\n",
        "\n",
        "Read the getting started guide titled **\"Python for Deep Learning\"** and get familiar with Python and PyTorch. Read the provided code below and get familiar with the commands and their parameters to understand what the code is trying to do. We recommend to spend a fair amount of time to understand all the different parts of the code. This understanding will be important for this and future projects.\n",
        "\n",
        "The goal of this project is to implement the *“Hello World!”* program of deep learning: designing and training a network that performs image classification. The dataset we will be using is CIFAR10 which is a large set of images that are classified into 10 classes (airplane, bird, cat, etc.)."
      ]
    },
    {
      "cell_type": "markdown",
      "metadata": {
        "colab_type": "text",
        "id": "Wgsyd2YsVO9L"
      },
      "source": [
        "## Task 1:  Data Loading (10 points)\n",
        "Complete the **DataLoader** below which we will use to load images of the cifar10 dataset provided by torchvision. Your task is to normalize it by shifting and scaling it by a factor of 0.5. For the training set, introduce random transformations (e.g. flips) for data augmentation."
      ]
    },
    {
      "cell_type": "code",
      "metadata": {
        "colab_type": "code",
        "id": "EtxYeHjRVO9S",
        "outputId": "c97e66f5-a970-4253-8d08-765db9f6a92d",
        "colab": {
          "base_uri": "https://localhost:8080/",
          "height": 68
        }
      },
      "source": [
        "from __future__ import print_function, division\n",
        "\n",
        "import os\n",
        "import time\n",
        "import numpy as np\n",
        "\n",
        "import torch\n",
        "import torch.nn as nn\n",
        "import torch.optim as optim\n",
        "import torch.nn.functional as F\n",
        "from torch.optim import lr_scheduler\n",
        "import torchvision\n",
        "from torchvision import datasets, models, transforms\n",
        "from torch.utils.data.sampler import SubsetRandomSampler\n",
        "\n",
        "from PIL import Image\n",
        "import matplotlib.pyplot as plt\n",
        "plt.ion()   # interactive mode\n",
        "\n",
        "\n",
        "# Data augmentation and normalization for training\n",
        "# Just normalization for testing\n",
        "data_transforms = {\n",
        "    'train': transforms.Compose([\n",
        "    # TODO Task 1:  Training transofrmations\n",
        "        transforms.RandomCrop(32, padding=2),\n",
        "        transforms.RandomHorizontalFlip(),\n",
        "        transforms.ToTensor(),\n",
        "        transforms.Normalize((0.5, 0.5, 0.5), (0.5, 0.5, 0.5)),\n",
        "\n",
        "    ]),\n",
        "    'test': transforms.Compose([\n",
        "    # TODO Task 1:  Test transofrmations\n",
        "                \n",
        "         transforms.ToTensor(),\n",
        "         transforms.Normalize((0.5, 0.5, 0.5), (0.5, 0.5, 0.5))\n",
        "        \n",
        "    ])\n",
        "}\n",
        "\n",
        "# Load CIFAR10\n",
        "image_datasets = {x: torchvision.datasets.CIFAR10(root='./data', train=(x=='train'), download=True, transform=data_transforms[x]) for x in ['train', 'test']}\n",
        "dataloaders = {x: torch.utils.data.DataLoader(image_datasets[x], batch_size=4, shuffle=(x=='train'), num_workers=4) for x in ['train', 'test']}\n",
        "dataset_sizes = {x: len(image_datasets[x]) for x in ['train', 'test']}\n",
        "class_names = image_datasets['train'].classes\n",
        "\n",
        "# Move to GPU\n",
        "device = torch.device(\"cuda:0\" if torch.cuda.is_available() else \"cpu\")"
      ],
      "execution_count": 0,
      "outputs": [
        {
          "output_type": "stream",
          "text": [
            "\r0it [00:00, ?it/s]"
          ],
          "name": "stderr"
        },
        {
          "output_type": "stream",
          "text": [
            "Downloading https://www.cs.toronto.edu/~kriz/cifar-10-python.tar.gz to ./data/cifar-10-python.tar.gz\n"
          ],
          "name": "stdout"
        },
        {
          "output_type": "stream",
          "text": [
            " 99%|█████████▉| 168927232/170498071 [00:11<00:00, 16777270.12it/s]"
          ],
          "name": "stderr"
        },
        {
          "output_type": "stream",
          "text": [
            "Extracting ./data/cifar-10-python.tar.gz to ./data\n",
            "Files already downloaded and verified\n"
          ],
          "name": "stdout"
        }
      ]
    },
    {
      "cell_type": "markdown",
      "metadata": {
        "colab_type": "text",
        "id": "uS6cR4RhVO9U"
      },
      "source": [
        "### Visualize a few images\n",
        "\n",
        "Let’s visualize a few training images so as to understand the data augmentations. The results should look like:\n",
        "\n",
        "<img src=\"https://i.imgur.com/Sa6l1go.png\" width=\"400\" align=\"left\">"
      ]
    },
    {
      "cell_type": "code",
      "metadata": {
        "colab_type": "code",
        "id": "xXSA5DDBVO9V",
        "outputId": "bb07856b-cfa5-4824-8f2e-3bdd6d70d4b4",
        "colab": {
          "base_uri": "https://localhost:8080/",
          "height": 151
        }
      },
      "source": [
        "# TODO Task 1:  Run this cell and try to understand the output of each step\n",
        "\n",
        "def imshow(inp, title=None):\n",
        "    \"\"\"Imshow for Tensor.\"\"\"\n",
        "    inp = inp.numpy().transpose((1, 2, 0))\n",
        "    mean = np.array([0.5, 0.5, 0.5])\n",
        "    std = np.array([0.5, 0.5, 0.5])\n",
        "    inp = std * inp + mean\n",
        "    inp = np.clip(inp, 0, 1)\n",
        "    plt.imshow(inp)\n",
        "    if title is not None:\n",
        "        plt.title(title)\n",
        "    plt.pause(0.001)  # pause a bit so that plots are updated\n",
        "\n",
        "# Get a batch of training data\n",
        "inputs, classes = next(iter(dataloaders['train']))\n",
        "\n",
        "# Make a grid from batch\n",
        "out = torchvision.utils.make_grid(inputs)\n",
        "\n",
        "imshow(out, title=[class_names[x] for x in classes])"
      ],
      "execution_count": 0,
      "outputs": [
        {
          "output_type": "display_data",
          "data": {
            "image/png": "[encoded data removed]",
            "text/plain": [
              "<Figure size 432x288 with 1 Axes>"
            ]
          },
          "metadata": {
            "tags": []
          }
        }
      ]
    },
    {
      "cell_type": "markdown",
      "metadata": {
        "colab_type": "text",
        "id": "YmMMSK0TVO9L"
      },
      "source": [
        "## Task 2: Basic Networks (20 points)\n",
        "1. Create a Fully connected Network (FcNet) as follows in the Jupyter Notebook:\n",
        "```\n",
        "FcNet(\n",
        "  (fc1): Linear(in_features=3072, out_features=1024, bias=True)\n",
        "  (fc2): Linear(in_features=1024, out_features=400, bias=True)\n",
        "  (fc3): Linear(in_features=400, out_features=84, bias=True)\n",
        "  (fc4): Linear(in_features=84, out_features=10, bias=True)\n",
        ")\n",
        "```\n",
        "Train the FcNet for **3** epoches and record the training time and accuracy in your final report.\n",
        "\n",
        "2. Create a Convolutional Network (ConvNet) as follows in the Jupyter Notebook:\n",
        "```\n",
        "ConvNet(\n",
        "  (conv1): Conv2d(3, 6, kernel_size=(5, 5), stride=(1, 1))\n",
        "  (pool): MaxPool2d(kernel_size=2, stride=2, padding=0, dilation=1, ceil_mode=False)\n",
        "  (conv2): Conv2d(6, 16, kernel_size=(5, 5), stride=(1, 1))\n",
        "  (fc1): Linear(in_features=400, out_features=120, bias=True)\n",
        "  (fc2): Linear(in_features=120, out_features=84, bias=True)\n",
        "  (fc3): Linear(in_features=84, out_features=10, bias=True)\n",
        ")\n",
        "```\n",
        "Train the ConvNet for **3** epoches and record the training time and accuracy in your final report. \n",
        "\n",
        "*Use the default SGD optimizer ( lr=0.001, momentum=0.9) for training."
      ]
    },
    {
      "cell_type": "markdown",
      "metadata": {
        "colab_type": "text",
        "id": "1sKXg8fSVO9X"
      },
      "source": [
        "### Model training code (do not modify except for plotting the loss curve)"
      ]
    },
    {
      "cell_type": "code",
      "metadata": {
        "colab_type": "code",
        "id": "A_Y2cgPEVO9X",
        "colab": {}
      },
      "source": [
        "def train_model(model, criterion, optimizer, num_epochs=25, save_path='saved_weight.pth'):\n",
        "    since = time.time()\n",
        "    loss_curve = []\n",
        "    for epoch in range(num_epochs):\n",
        "        print('Epoch {}/{}'.format(epoch, num_epochs - 1))\n",
        "        print('-' * 10)\n",
        "\n",
        "        # Each epoch has a training and validation phase\n",
        "        for phase in ['train']:\n",
        "            if phase == 'train': model.train()  # Set model to training mode\n",
        "\n",
        "            running_loss = 0.0\n",
        "            running_corrects = 0\n",
        "\n",
        "            # Iterate over data.\n",
        "            for inputs, labels in dataloaders[phase]:\n",
        "                inputs = inputs.to(device)\n",
        "                labels = labels.to(device)\n",
        "\n",
        "                # zero the parameter gradients\n",
        "                optimizer.zero_grad()\n",
        "\n",
        "                # forward\n",
        "                # track history if only in train\n",
        "                with torch.set_grad_enabled(phase == 'train'):\n",
        "                    outputs = model(inputs)\n",
        "                    _, preds = torch.max(outputs, 1)\n",
        "                    loss = criterion(outputs, labels)\n",
        "\n",
        "                    # backward + optimize only if in training phase\n",
        "                    if phase == 'train':\n",
        "                        loss.backward()\n",
        "                        optimizer.step()\n",
        "\n",
        "                # statistics\n",
        "                running_loss += loss.item() * inputs.size(0)\n",
        "                running_corrects += torch.sum(preds == labels.data)\n",
        "\n",
        "            epoch_loss = running_loss / dataset_sizes[phase]\n",
        "            loss_curve.append(epoch_loss)\n",
        "            epoch_acc = running_corrects.double() / dataset_sizes[phase]\n",
        "\n",
        "            print('{} Loss: {:.4f} Acc: {:.4f}'.format(phase, epoch_loss, epoch_acc))\n",
        "    print()\n",
        "\n",
        "    time_elapsed = time.time() - since\n",
        "    print('Training complete in {:.0f}m {:.0f}s'.format(time_elapsed // 60, time_elapsed % 60))\n",
        "    plt.plot(range(len(loss_curve)), loss_curve)\n",
        "    torch.save(model.state_dict(), save_path)\n",
        "    return model"
      ],
      "execution_count": 0,
      "outputs": []
    },
    {
      "cell_type": "markdown",
      "metadata": {
        "colab_type": "text",
        "id": "tX6I8cqXFDMX"
      },
      "source": [
        "### 1) FC Network"
      ]
    },
    {
      "cell_type": "code",
      "metadata": {
        "colab_type": "code",
        "id": "rpompN92VO9d",
        "outputId": "c41fec2b-2cd7-4456-f866-5338897724de",
        "colab": {
          "base_uri": "https://localhost:8080/",
          "height": 119
        }
      },
      "source": [
        "# 1) Define a Fully Connected Neural Network\n",
        "class FcNet(nn.Module):\n",
        "    def __init__(self):\n",
        "        super(FcNet, self).__init__()\n",
        "        # TODO Task 2:  Define the layers\n",
        "        self.fc1 = nn.Linear(3072, 1024, bias=True)\n",
        "        self.fc2 = nn.Linear(1024,400, bias=True)\n",
        "        self.fc3 = nn.Linear(400, 80, bias=True)\n",
        "        self.fc4 = nn.Linear(80, 10, bias=True)\n",
        "\n",
        "    def forward(self, x):\n",
        "        # TODO Task 2:  Define the forward pass\n",
        "        x = x.view(-1, 3072)\n",
        "        x = self.fc1(x)\n",
        "        x = F.relu(x)\n",
        "        x = self.fc2(x)\n",
        "        x = F.relu(x)\n",
        "        x = self.fc3(x)\n",
        "        x = F.relu(x)\n",
        "        x = self.fc4(x)\n",
        "        return x\n",
        "\n",
        "model_ft = FcNet()\n",
        "model_ft = model_ft.to(device)\n",
        "print(model_ft)\n",
        "optimizer = torch.optim.SGD(model_ft.parameters() ,  lr=0.001, momentum=0.9 )\n",
        "#train_model(model_ft, nn.CrossEntropyLoss() , optimizer, num_epochs=3, save_path='saved_weight.pth')"
      ],
      "execution_count": 0,
      "outputs": [
        {
          "output_type": "stream",
          "text": [
            "FcNet(\n",
            "  (fc1): Linear(in_features=3072, out_features=1024, bias=True)\n",
            "  (fc2): Linear(in_features=1024, out_features=400, bias=True)\n",
            "  (fc3): Linear(in_features=400, out_features=80, bias=True)\n",
            "  (fc4): Linear(in_features=80, out_features=10, bias=True)\n",
            ")\n"
          ],
          "name": "stdout"
        }
      ]
    },
    {
      "cell_type": "markdown",
      "metadata": {
        "colab_type": "text",
        "id": "kFQdcJaKFF8y"
      },
      "source": [
        "### 2) CNN"
      ]
    },
    {
      "cell_type": "code",
      "metadata": {
        "colab_type": "code",
        "id": "ma36XwVfVO9h",
        "outputId": "6d89670a-59c4-4983-e24a-8fcb6e654756",
        "colab": {
          "base_uri": "https://localhost:8080/",
          "height": 762
        }
      },
      "source": [
        "# 2) Define a Convolutional Neural Network\n",
        "class ConvNet(nn.Module):\n",
        "    def __init__(self):\n",
        "        super(ConvNet, self).__init__()\n",
        "        self.conv1 = nn.Conv2d(3, 6, kernel_size=(5, 5), stride=(1, 1))\n",
        "        self.pool1  = nn.MaxPool2d(kernel_size=2, stride=2, padding=0, dilation=1, ceil_mode=False)\n",
        "        self.conv2 = nn.Conv2d(6, 16, kernel_size=(5, 5), stride=(1, 1))\n",
        "        self.pool2  = nn.MaxPool2d(kernel_size=2, stride=2, padding=0, dilation=1, ceil_mode=False)\n",
        "\n",
        "        self.fc1 = nn.Linear(400, 120, bias=True)\n",
        "        self.fc2 = nn.Linear(120,84, bias=True)\n",
        "        self.fc3 = nn.Linear(84, 10, bias=True)\n",
        "    def forward(self, x):\n",
        "        # TODO Task 2:  Define the forward pass\n",
        "        x = self.conv1(x)\n",
        "        x = F.relu(x)\n",
        "        x = self.pool1(x)\n",
        "        x = self.conv2(x)\n",
        "        x = F.relu(x)\n",
        "        x = self.pool2(x)\n",
        "\n",
        "        x = x.view(x.size(0), -1)\n",
        "        x = self.fc1(x)\n",
        "        x = F.relu(x)\n",
        "        x = self.fc2(x)\n",
        "        x = F.relu(x)\n",
        "        x = self.fc3(x) \n",
        "        return x\n",
        "\n",
        "model_ft = ConvNet()\n",
        "model_ft = model_ft.to(device)\n",
        "print(model_ft)\n",
        "optimizer = torch.optim.SGD(model_ft.parameters() ,  lr=0.001, momentum=0.9 )\n",
        "train_model(model_ft, nn.CrossEntropyLoss() , optimizer, num_epochs=3, save_path='saved_weight.pth')"
      ],
      "execution_count": 0,
      "outputs": [
        {
          "output_type": "stream",
          "text": [
            "ConvNet(\n",
            "  (conv1): Conv2d(3, 6, kernel_size=(5, 5), stride=(1, 1))\n",
            "  (pool1): MaxPool2d(kernel_size=2, stride=2, padding=0, dilation=1, ceil_mode=False)\n",
            "  (conv2): Conv2d(6, 16, kernel_size=(5, 5), stride=(1, 1))\n",
            "  (pool2): MaxPool2d(kernel_size=2, stride=2, padding=0, dilation=1, ceil_mode=False)\n",
            "  (fc1): Linear(in_features=400, out_features=120, bias=True)\n",
            "  (fc2): Linear(in_features=120, out_features=84, bias=True)\n",
            "  (fc3): Linear(in_features=84, out_features=10, bias=True)\n",
            ")\n",
            "Epoch 0/2\n",
            "----------\n",
            "train Loss: 1.7521 Acc: 0.3548\n",
            "Epoch 1/2\n",
            "----------\n",
            "train Loss: 1.3858 Acc: 0.5021\n",
            "Epoch 2/2\n",
            "----------\n",
            "train Loss: 1.2549 Acc: 0.5540\n",
            "\n",
            "Training complete in 2m 24s\n"
          ],
          "name": "stdout"
        },
        {
          "output_type": "execute_result",
          "data": {
            "text/plain": [
              "ConvNet(\n",
              "  (conv1): Conv2d(3, 6, kernel_size=(5, 5), stride=(1, 1))\n",
              "  (pool1): MaxPool2d(kernel_size=2, stride=2, padding=0, dilation=1, ceil_mode=False)\n",
              "  (conv2): Conv2d(6, 16, kernel_size=(5, 5), stride=(1, 1))\n",
              "  (pool2): MaxPool2d(kernel_size=2, stride=2, padding=0, dilation=1, ceil_mode=False)\n",
              "  (fc1): Linear(in_features=400, out_features=120, bias=True)\n",
              "  (fc2): Linear(in_features=120, out_features=84, bias=True)\n",
              "  (fc3): Linear(in_features=84, out_features=10, bias=True)\n",
              ")"
            ]
          },
          "metadata": {
            "tags": []
          },
          "execution_count": 5
        },
        {
          "output_type": "display_data",
          "data": {
            "image/png": "[encoded data removed]",
            "text/plain": [
              "<Figure size 432x288 with 1 Axes>"
            ]
          },
          "metadata": {
            "tags": []
          }
        }
      ]
    },
    {
      "cell_type": "markdown",
      "metadata": {
        "colab_type": "text",
        "id": "NMAIB0f8VO9M"
      },
      "source": [
        "## Task 3: Design Your Network I (20 points)\n",
        "Define your own Convolutional Network (MyNet) starting from the configuration in Task 2.2. Add following modifications and train the Network for **25** epoches. Keep the best settings for each step (for each step, record the training accuracy of the last epoch and test accuracy in your report):\n",
        "\n",
        "1. Increase the number of layers: Modify the number of convolutional layers in the network.\n",
        "2. Increase the number of filters: Modify the number of filters in each convolutional layer of the network. \n",
        "3. Modify the filter sizes in each convolutional layer. Experiment with different filter sizes (3x3, 5x5 and 7x7)."
      ]
    },
    {
      "cell_type": "markdown",
      "metadata": {
        "colab_type": "text",
        "id": "fkrcMarLVO9N"
      },
      "source": [
        "## Task 4: Design Your Network II (20 points)\n",
        "Keeping the best settings of Task 3, use **Dropout** in fully connected layers and Batch Normalization (choose a suitable batch size) in convolutional layers. Record the training accuracy of the last epoch and test accuracy in your report."
      ]
    },
    {
      "cell_type": "markdown",
      "metadata": {
        "colab_type": "text",
        "id": "biQSr45WKS86"
      },
      "source": [
        "### Design Your Network"
      ]
    },
    {
      "cell_type": "code",
      "metadata": {
        "colab_type": "code",
        "id": "PpRAJHrtVO9o",
        "colab": {}
      },
      "source": [
        "# Define a Convolutional Neural Network\n",
        "class MyNet(nn.Module):\n",
        "    def __init__(self):\n",
        "        super(MyNet, self).__init__()\n",
        "        # TODO Task 3 & 4: Design Your Network I & II \n",
        "        \n",
        "        self.conv1 = nn.Conv2d(3, 32, kernel_size=(1, 1), stride=(1, 1))\n",
        "        self.bn1 = nn.BatchNorm2d(32)\n",
        "        self.conv2 = nn.Conv2d(32, 32, kernel_size=(3, 3), stride=(1, 1))\n",
        "        self.bn2 = nn.BatchNorm2d(32)\n",
        "\n",
        "        self.pool1  = nn.MaxPool2d(kernel_size=2, stride=1, padding=0,  ceil_mode=False)\n",
        "\n",
        "          \n",
        "        self.conv3 = nn.Conv2d(32, 32, kernel_size=(3, 3), stride=(1, 1))\n",
        "        self.bn3 = nn.BatchNorm2d(32)\n",
        "\n",
        "        self.conv4 = nn.Conv2d(32, 64, kernel_size=(3, 3), stride=(2, 2))\n",
        "        self.bn4 = nn.BatchNorm2d(64)\n",
        "\n",
        "        self.pool2  = nn.MaxPool2d(kernel_size=2, stride=1, padding=0, ceil_mode=False)\n",
        "\n",
        "          \n",
        "        self.conv5 = nn.Conv2d(64, 64, kernel_size=(3, 3), stride=(1, 1))\n",
        "        self.bn5 = nn.BatchNorm2d(64)\n",
        "\n",
        "        self.conv6 = nn.Conv2d(64, 64, kernel_size=(3, 3), stride=(1, 1))\n",
        "        self.bn6 = nn.BatchNorm2d(64)\n",
        "\n",
        "        self.pool3  = nn.MaxPool2d(kernel_size=2, stride=1, padding=0, ceil_mode=False)\n",
        "\n",
        "        self.fc1 = nn.Linear(3136, 1024, bias=True)\n",
        "        self.fc2 = nn.Linear(1024,256, bias=True)\n",
        "        self.fc3 = nn.Linear(256, 10, bias=True)\n",
        "        \n",
        "        self.dropout = nn.Dropout(0.2)\n",
        "        \n",
        "        self.featuremap1 = 0\n",
        "        self.featuremap2 = 0\n",
        "\n",
        "    def forward(self, x):\n",
        "        # TODO Task 3 & 4: Design Your Network I & II\n",
        "        \n",
        "        \n",
        "        x = self.conv1(x)\n",
        "        x = self.bn1(x)\n",
        "        x = F.relu(x)        \n",
        "        self.featuremap1 = x\n",
        "\n",
        "        \n",
        "        x = self.conv2(x)\n",
        "        x = self.bn2(x)\n",
        "        x = F.relu(x)\n",
        "        x = self.pool1(x)\n",
        "      \n",
        "      \n",
        "      \n",
        "        x = self.conv3(x)\n",
        "        x = self.bn3(x)\n",
        "        x = F.relu(x)\n",
        "        x = self.conv4(x)\n",
        "        x = self.bn4(x)\n",
        "        x = F.relu(x)\n",
        "        x = self.pool2(x)\n",
        "        \n",
        "        x = self.conv5(x)\n",
        "        x = self.bn5(x)\n",
        "        x = F.relu(x)\n",
        "        x = self.conv6(x)\n",
        "        x = self.bn6(x)\n",
        "        x = F.relu(x)\n",
        "        \n",
        "        self.featuremap2 = x\n",
        "\n",
        "        \n",
        "        x = self.pool3(x)\n",
        "        \n",
        "        x = x.view(x.size(0), -1)\n",
        "        x = self.fc1(x)\n",
        "        x = F.relu(x)\n",
        "        x = self.dropout(x)\n",
        "        x = self.fc2(x)\n",
        "        x = F.relu(x)\n",
        "        x = self.dropout(x)\n",
        "        x = self.fc3(x) \n",
        "        return x\n",
        "\n"
      ],
      "execution_count": 0,
      "outputs": []
    },
    {
      "cell_type": "code",
      "metadata": {
        "colab_type": "code",
        "id": "77S-thkZVO9q",
        "colab": {}
      },
      "source": [
        "model_ft = MyNet()\n",
        "model_ft = model_ft.to(device)\n",
        "criterion = nn.CrossEntropyLoss()\n",
        "\n",
        "# TODO Task 5: Optimizer\n",
        "optimizer_ft = optim.SGD(model_ft.parameters(), lr=0.001, momentum=0.9)"
      ],
      "execution_count": 0,
      "outputs": []
    },
    {
      "cell_type": "code",
      "metadata": {
        "colab_type": "code",
        "id": "KYLl8I42VO9r",
        "outputId": "efa2258d-deff-4ebf-852f-5a6fbeec8ca9",
        "colab": {
          "base_uri": "https://localhost:8080/",
          "height": 1000
        }
      },
      "source": [
        "## Train and evaluate\n",
        "model_ft = train_model(model_ft, criterion, optimizer_ft, num_epochs=25)"
      ],
      "execution_count": 0,
      "outputs": [
        {
          "output_type": "stream",
          "text": [
            "Epoch 0/24\n",
            "----------\n",
            "train Loss: 1.6767 Acc: 0.3927\n",
            "Epoch 1/24\n",
            "----------\n",
            "train Loss: 1.2957 Acc: 0.5435\n",
            "Epoch 2/24\n",
            "----------\n",
            "train Loss: 1.1253 Acc: 0.6057\n",
            "Epoch 3/24\n",
            "----------\n",
            "train Loss: 1.0281 Acc: 0.6404\n",
            "Epoch 4/24\n",
            "----------\n",
            "train Loss: 0.9501 Acc: 0.6689\n",
            "Epoch 5/24\n",
            "----------\n",
            "train Loss: 0.9020 Acc: 0.6877\n",
            "Epoch 6/24\n",
            "----------\n",
            "train Loss: 0.8551 Acc: 0.7038\n",
            "Epoch 7/24\n",
            "----------\n",
            "train Loss: 0.8168 Acc: 0.7178\n",
            "Epoch 8/24\n",
            "----------\n",
            "train Loss: 0.7796 Acc: 0.7292\n",
            "Epoch 9/24\n",
            "----------\n",
            "train Loss: 0.7554 Acc: 0.7401\n",
            "Epoch 10/24\n",
            "----------\n",
            "train Loss: 0.7294 Acc: 0.7485\n",
            "Epoch 11/24\n",
            "----------\n",
            "train Loss: 0.7099 Acc: 0.7554\n",
            "Epoch 12/24\n",
            "----------\n",
            "train Loss: 0.6885 Acc: 0.7653\n",
            "Epoch 13/24\n",
            "----------\n",
            "train Loss: 0.6663 Acc: 0.7715\n",
            "Epoch 14/24\n",
            "----------\n",
            "train Loss: 0.6516 Acc: 0.7753\n",
            "Epoch 15/24\n",
            "----------\n",
            "train Loss: 0.6369 Acc: 0.7830\n",
            "Epoch 16/24\n",
            "----------\n",
            "train Loss: 0.6198 Acc: 0.7881\n",
            "Epoch 17/24\n",
            "----------\n",
            "train Loss: 0.6079 Acc: 0.7924\n",
            "Epoch 18/24\n",
            "----------\n",
            "train Loss: 0.5915 Acc: 0.7971\n",
            "Epoch 19/24\n",
            "----------\n",
            "train Loss: 0.5804 Acc: 0.7996\n",
            "Epoch 20/24\n",
            "----------\n",
            "train Loss: 0.5690 Acc: 0.8041\n",
            "Epoch 21/24\n",
            "----------\n",
            "train Loss: 0.5595 Acc: 0.8073\n",
            "Epoch 22/24\n",
            "----------\n",
            "train Loss: 0.5442 Acc: 0.8145\n",
            "Epoch 23/24\n",
            "----------\n",
            "train Loss: 0.5387 Acc: 0.8152\n",
            "Epoch 24/24\n",
            "----------\n",
            "train Loss: 0.5343 Acc: 0.8155\n",
            "\n",
            "Training complete in 55m 60s\n"
          ],
          "name": "stdout"
        },
        {
          "output_type": "display_data",
          "data": {
            "image/png": "[encoded data removed]",
            "text/plain": [
              "<Figure size 432x288 with 1 Axes>"
            ]
          },
          "metadata": {
            "tags": []
          }
        }
      ]
    },
    {
      "cell_type": "markdown",
      "metadata": {
        "colab_type": "text",
        "id": "akFMVbNaVO9N"
      },
      "source": [
        "## Task 5: The Optimizer (20 points)\n",
        "Keeping the best settings of Task 4, use 3 different optimizers (SGD, ADAM and RMSProp) with 3 different learning rates (0.001, 0.01, 0.1) . Plot the loss curves (Training loss vs Training step) for each case."
      ]
    },
    {
      "cell_type": "code",
      "metadata": {
        "id": "NmhH3laA6WFG",
        "colab_type": "code",
        "outputId": "086cb4d8-d779-4b06-ca30-187ea5d65e60",
        "colab": {
          "base_uri": "https://localhost:8080/",
          "height": 1000
        }
      },
      "source": [
        "for lr in [0.001, 0.01, 0.1]:\n",
        "  model_ft = MyNet()\n",
        "  model_ft = model_ft.to(device)\n",
        "  criterion = nn.CrossEntropyLoss()\n",
        "  optimizer_ft = optim.SGD(model_ft.parameters(), lr=lr)\n",
        "  train_model(model_ft, criterion, optimizer_ft, num_epochs=10)\n",
        "  \n",
        "  \n",
        "\n",
        "  \n",
        "    "
      ],
      "execution_count": 0,
      "outputs": [
        {
          "output_type": "stream",
          "text": [
            "Epoch 0/9\n",
            "----------\n",
            "train Loss: 1.8332 Acc: 0.3216\n",
            "Epoch 1/9\n",
            "----------\n",
            "train Loss: 1.4624 Acc: 0.4767\n",
            "Epoch 2/9\n",
            "----------\n",
            "train Loss: 1.2918 Acc: 0.5416\n",
            "Epoch 3/9\n",
            "----------\n",
            "train Loss: 1.1793 Acc: 0.5866\n",
            "Epoch 4/9\n",
            "----------\n",
            "train Loss: 1.1025 Acc: 0.6113\n",
            "Epoch 5/9\n",
            "----------\n",
            "train Loss: 1.0337 Acc: 0.6360\n",
            "Epoch 6/9\n",
            "----------\n",
            "train Loss: 0.9847 Acc: 0.6540\n",
            "Epoch 7/9\n",
            "----------\n",
            "train Loss: 0.9386 Acc: 0.6726\n",
            "Epoch 8/9\n",
            "----------\n",
            "train Loss: 0.9026 Acc: 0.6847\n",
            "Epoch 9/9\n",
            "----------\n",
            "train Loss: 0.8696 Acc: 0.6975\n",
            "\n",
            "Training complete in 21m 17s\n",
            "Epoch 0/9\n",
            "----------\n",
            "train Loss: 1.6534 Acc: 0.3990\n",
            "Epoch 1/9\n",
            "----------\n",
            "train Loss: 1.2913 Acc: 0.5458\n",
            "Epoch 2/9\n",
            "----------\n",
            "train Loss: 1.1223 Acc: 0.6039\n",
            "Epoch 3/9\n",
            "----------\n",
            "train Loss: 1.0210 Acc: 0.6435\n",
            "Epoch 4/9\n",
            "----------\n",
            "train Loss: 0.9548 Acc: 0.6680\n",
            "Epoch 5/9\n",
            "----------\n",
            "train Loss: 0.8939 Acc: 0.6882\n",
            "Epoch 6/9\n",
            "----------\n",
            "train Loss: 0.8538 Acc: 0.7038\n",
            "Epoch 7/9\n",
            "----------\n",
            "train Loss: 0.8203 Acc: 0.7149\n",
            "Epoch 8/9\n",
            "----------\n",
            "train Loss: 0.7885 Acc: 0.7265\n",
            "Epoch 9/9\n",
            "----------\n",
            "train Loss: 0.7583 Acc: 0.7401\n",
            "\n",
            "Training complete in 21m 13s\n",
            "Epoch 0/9\n",
            "----------\n",
            "train Loss: 2.0073 Acc: 0.2641\n",
            "Epoch 1/9\n",
            "----------\n",
            "train Loss: 1.8838 Acc: 0.3220\n",
            "Epoch 2/9\n",
            "----------\n",
            "train Loss: 1.8428 Acc: 0.3437\n",
            "Epoch 3/9\n",
            "----------\n",
            "train Loss: 1.8105 Acc: 0.3569\n",
            "Epoch 4/9\n",
            "----------\n",
            "train Loss: 1.7863 Acc: 0.3708\n",
            "Epoch 5/9\n",
            "----------\n",
            "train Loss: 1.7701 Acc: 0.3808\n",
            "Epoch 6/9\n",
            "----------\n",
            "train Loss: 1.7413 Acc: 0.3882\n",
            "Epoch 7/9\n",
            "----------\n",
            "train Loss: 1.7302 Acc: 0.3953\n",
            "Epoch 8/9\n",
            "----------\n",
            "train Loss: 1.7252 Acc: 0.3976\n",
            "Epoch 9/9\n",
            "----------\n",
            "train Loss: 1.7332 Acc: 0.3950\n",
            "\n",
            "Training complete in 21m 14s\n"
          ],
          "name": "stdout"
        },
        {
          "output_type": "display_data",
          "data": {
            "image/png": "[encoded data removed]",
            "text/plain": [
              "<Figure size 432x288 with 1 Axes>"
            ]
          },
          "metadata": {
            "tags": []
          }
        }
      ]
    },
    {
      "cell_type": "code",
      "metadata": {
        "id": "KEBofVyizDob",
        "colab_type": "code",
        "outputId": "188ada2c-e69e-4e7f-8017-7b3c2b835990",
        "colab": {
          "base_uri": "https://localhost:8080/",
          "height": 1000
        }
      },
      "source": [
        "for lr in [0.001, 0.01, 0.1]:\n",
        "  model_ft = MyNet()\n",
        "  model_ft = model_ft.to(device)\n",
        "  criterion = nn.CrossEntropyLoss()\n",
        "  optimizer_ft = optim.Adam(model_ft.parameters(), lr=lr)\n",
        "  train_model(model_ft, criterion, optimizer_ft, num_epochs=10)\n",
        "  \n",
        "\n"
      ],
      "execution_count": 0,
      "outputs": [
        {
          "output_type": "stream",
          "text": [
            "Epoch 0/9\n",
            "----------\n",
            "train Loss: 1.8511 Acc: 0.3121\n",
            "Epoch 1/9\n",
            "----------\n",
            "train Loss: 1.5555 Acc: 0.4398\n",
            "Epoch 2/9\n",
            "----------\n",
            "train Loss: 1.4275 Acc: 0.4929\n",
            "Epoch 3/9\n",
            "----------\n",
            "train Loss: 1.3350 Acc: 0.5274\n",
            "Epoch 4/9\n",
            "----------\n",
            "train Loss: 1.2784 Acc: 0.5511\n",
            "Epoch 5/9\n",
            "----------\n",
            "train Loss: 1.2258 Acc: 0.5720\n",
            "Epoch 6/9\n",
            "----------\n",
            "train Loss: 1.1953 Acc: 0.5824\n",
            "Epoch 7/9\n",
            "----------\n",
            "train Loss: 1.1639 Acc: 0.5963\n",
            "Epoch 8/9\n",
            "----------\n",
            "train Loss: 1.1332 Acc: 0.6070\n",
            "Epoch 9/9\n",
            "----------\n",
            "train Loss: 1.1165 Acc: 0.6138\n",
            "\n",
            "Training complete in 18m 43s\n",
            "Epoch 0/9\n",
            "----------\n",
            "train Loss: 2.2323 Acc: 0.1550\n",
            "Epoch 1/9\n",
            "----------\n",
            "train Loss: 2.1846 Acc: 0.1676\n",
            "Epoch 2/9\n",
            "----------\n",
            "train Loss: 2.1848 Acc: 0.1672\n",
            "Epoch 3/9\n",
            "----------\n",
            "train Loss: 2.1714 Acc: 0.1674\n",
            "Epoch 4/9\n",
            "----------\n",
            "train Loss: 2.1562 Acc: 0.1706\n",
            "Epoch 5/9\n",
            "----------\n",
            "train Loss: 2.1453 Acc: 0.1684\n",
            "Epoch 6/9\n",
            "----------\n",
            "train Loss: 2.1411 Acc: 0.1686\n",
            "Epoch 7/9\n",
            "----------\n",
            "train Loss: 2.1357 Acc: 0.1700\n",
            "Epoch 8/9\n",
            "----------\n",
            "train Loss: 2.1144 Acc: 0.1722\n",
            "Epoch 9/9\n",
            "----------\n",
            "train Loss: 2.1055 Acc: 0.1749\n",
            "\n",
            "Training complete in 18m 47s\n",
            "Epoch 0/9\n",
            "----------\n",
            "train Loss: 4.4302 Acc: 0.1015\n",
            "Epoch 1/9\n",
            "----------\n",
            "train Loss: 4.0147 Acc: 0.0997\n",
            "Epoch 2/9\n",
            "----------\n",
            "train Loss: 2.3806 Acc: 0.0995\n",
            "Epoch 3/9\n",
            "----------\n",
            "train Loss: 2.4517 Acc: 0.0997\n",
            "Epoch 4/9\n",
            "----------\n",
            "train Loss: 2.3500 Acc: 0.1006\n",
            "Epoch 5/9\n",
            "----------\n",
            "train Loss: 2.3419 Acc: 0.0965\n",
            "Epoch 6/9\n",
            "----------\n",
            "train Loss: 2.3669 Acc: 0.0992\n",
            "Epoch 7/9\n",
            "----------\n",
            "train Loss: 2.3396 Acc: 0.1006\n",
            "Epoch 8/9\n",
            "----------\n",
            "train Loss: 2.3388 Acc: 0.0989\n",
            "Epoch 9/9\n",
            "----------\n",
            "train Loss: 2.3388 Acc: 0.1007\n",
            "\n",
            "Training complete in 18m 51s\n"
          ],
          "name": "stdout"
        },
        {
          "output_type": "display_data",
          "data": {
            "image/png": "[encoded data removed]",
            "text/plain": [
              "<Figure size 432x288 with 1 Axes>"
            ]
          },
          "metadata": {
            "tags": []
          }
        }
      ]
    },
    {
      "cell_type": "code",
      "metadata": {
        "id": "cKTvlKsZzlqY",
        "colab_type": "code",
        "colab": {}
      },
      "source": [
        "for lr in [0.001, 0.01, 0.1]:\n",
        "  model_ft = MyNet()\n",
        "  model_ft = model_ft.to(device)\n",
        "  criterion = nn.CrossEntropyLoss()\n",
        "  optimizer_ft = optim.RMSprop(model_ft.parameters(), lr=lr)\n",
        "  train_model(model_ft, criterion, optimizer_ft, num_epochs=10)\n",
        "  "
      ],
      "execution_count": 0,
      "outputs": []
    },
    {
      "cell_type": "markdown",
      "metadata": {
        "colab_type": "text",
        "id": "bl7mS2igVO9v"
      },
      "source": [
        "### Testing the Accuracy"
      ]
    },
    {
      "cell_type": "code",
      "metadata": {
        "colab_type": "code",
        "id": "GtE6iv9rVO9w",
        "colab": {}
      },
      "source": [
        "def test_model(model, load_path='saved_weight.pth'):    \n",
        "    # load the model weights\n",
        "    model.load_state_dict(torch.load(load_path))\n",
        "    \n",
        "    since = time.time()\n",
        "\n",
        "    for phase in ['test']:\n",
        "        if phase == 'test':\n",
        "            model.eval()   # Set model to evaluate mode\n",
        "\n",
        "        running_loss = 0.0\n",
        "        running_corrects = 0\n",
        "\n",
        "        # Iterate over data.\n",
        "        for inputs, labels in dataloaders[phase]:\n",
        "            inputs = inputs.to(device)\n",
        "            labels = labels.to(device)\n",
        "\n",
        "            with torch.no_grad():\n",
        "                outputs = model(inputs)\n",
        "                _, preds = torch.max(outputs, 1)\n",
        "\n",
        "            # statistics\n",
        "            running_corrects += torch.sum(preds == labels.data)\n",
        "        epoch_acc = running_corrects.double() / dataset_sizes[phase]\n",
        "\n",
        "        print('{} Acc: {:.4f}'.format(phase, epoch_acc))\n",
        "\n",
        "    time_elapsed = time.time() - since\n",
        "    print('Testing complete in {:.0f}m {:.0f}s'.format(time_elapsed // 60, time_elapsed % 60))\n",
        "\n",
        "    return "
      ],
      "execution_count": 0,
      "outputs": []
    },
    {
      "cell_type": "code",
      "metadata": {
        "colab_type": "code",
        "id": "8ZI4TK9jVO9y",
        "outputId": "de68048b-ed76-41ef-b987-494bb2e8e566",
        "colab": {
          "base_uri": "https://localhost:8080/",
          "height": 408
        }
      },
      "source": [
        "test_model(model_ft)\n",
        "print(model_ft)\n"
      ],
      "execution_count": 0,
      "outputs": [
        {
          "output_type": "stream",
          "text": [
            "test Acc: 0.8269\n",
            "Testing complete in 0m 11s\n",
            "MyNet(\n",
            "  (conv1): Conv2d(3, 32, kernel_size=(1, 1), stride=(1, 1))\n",
            "  (bn1): BatchNorm2d(32, eps=1e-05, momentum=0.1, affine=True, track_running_stats=True)\n",
            "  (conv2): Conv2d(32, 32, kernel_size=(3, 3), stride=(1, 1))\n",
            "  (bn2): BatchNorm2d(32, eps=1e-05, momentum=0.1, affine=True, track_running_stats=True)\n",
            "  (pool1): MaxPool2d(kernel_size=2, stride=1, padding=0, dilation=1, ceil_mode=False)\n",
            "  (conv3): Conv2d(32, 32, kernel_size=(3, 3), stride=(1, 1))\n",
            "  (bn3): BatchNorm2d(32, eps=1e-05, momentum=0.1, affine=True, track_running_stats=True)\n",
            "  (conv4): Conv2d(32, 64, kernel_size=(3, 3), stride=(2, 2))\n",
            "  (bn4): BatchNorm2d(64, eps=1e-05, momentum=0.1, affine=True, track_running_stats=True)\n",
            "  (pool2): MaxPool2d(kernel_size=2, stride=1, padding=0, dilation=1, ceil_mode=False)\n",
            "  (conv5): Conv2d(64, 64, kernel_size=(3, 3), stride=(1, 1))\n",
            "  (bn5): BatchNorm2d(64, eps=1e-05, momentum=0.1, affine=True, track_running_stats=True)\n",
            "  (conv6): Conv2d(64, 64, kernel_size=(3, 3), stride=(1, 1))\n",
            "  (bn6): BatchNorm2d(64, eps=1e-05, momentum=0.1, affine=True, track_running_stats=True)\n",
            "  (pool3): MaxPool2d(kernel_size=2, stride=1, padding=0, dilation=1, ceil_mode=False)\n",
            "  (fc1): Linear(in_features=3136, out_features=1024, bias=True)\n",
            "  (fc2): Linear(in_features=1024, out_features=256, bias=True)\n",
            "  (fc3): Linear(in_features=256, out_features=10, bias=True)\n",
            "  (dropout): Dropout(p=0.2)\n",
            ")\n"
          ],
          "name": "stdout"
        }
      ]
    },
    {
      "cell_type": "markdown",
      "metadata": {
        "id": "CKnbSF07cqdb",
        "colab_type": "text"
      },
      "source": [
        "### Display model predictions"
      ]
    },
    {
      "cell_type": "code",
      "metadata": {
        "id": "5GfhQGV_cqdc",
        "colab_type": "code",
        "colab": {}
      },
      "source": [
        "## Display model predictions\n",
        "## Generic function to display predictions for a few images\n",
        "\n",
        "def display_predictions(model, num_images=6):\n",
        "    was_training = model.training\n",
        "    model.eval()\n",
        "    images_so_far = 0\n",
        "    fig = plt.figure()\n",
        "\n",
        "    with torch.no_grad():\n",
        "        for i, (inputs, labels) in enumerate(dataloaders['test']):\n",
        "            inputs = inputs.to(device)\n",
        "            labels = labels.to(device)\n",
        "\n",
        "            outputs = model(inputs)\n",
        "            _, preds = torch.max(outputs, 1)\n",
        "\n",
        "            for j in range(inputs.size()[0]):\n",
        "                images_so_far += 1\n",
        "                ax = plt.subplot(num_images//2, 2, images_so_far)\n",
        "                ax.axis('off')\n",
        "                ax.set_title('predicted: {}'.format(class_names[preds[j]]))\n",
        "                imshow(inputs.cpu().data[j])\n",
        "\n",
        "                if images_so_far == num_images:\n",
        "                    model.train(mode=was_training)\n",
        "                    return\n",
        "        model.train(mode=was_training)"
      ],
      "execution_count": 0,
      "outputs": []
    },
    {
      "cell_type": "code",
      "metadata": {
        "id": "NoZrLWxDcqdd",
        "colab_type": "code",
        "outputId": "5d9c2c68-dbc2-443b-d6d7-ef6915d8c5ec",
        "colab": {
          "base_uri": "https://localhost:8080/",
          "height": 683
        }
      },
      "source": [
        "display_predictions(model_ft)"
      ],
      "execution_count": 0,
      "outputs": [
        {
          "output_type": "display_data",
          "data": {
            "image/png": "[encoded data removed]",
            "text/plain": [
              "<Figure size 432x288 with 1 Axes>"
            ]
          },
          "metadata": {
            "tags": []
          }
        },
        {
          "output_type": "display_data",
          "data": {
            "image/png": "[encoded data removed]",
            "text/plain": [
              "<Figure size 432x288 with 1 Axes>"
            ]
          },
          "metadata": {
            "tags": []
          }
        },
        {
          "output_type": "display_data",
          "data": {
            "image/png": "[encoded data removed]",
            "text/plain": [
              "<Figure size 432x288 with 1 Axes>"
            ]
          },
          "metadata": {
            "tags": []
          }
        },
        {
          "output_type": "display_data",
          "data": {
            "image/png": "[encoded data removed]",
            "text/plain": [
              "<Figure size 432x288 with 1 Axes>"
            ]
          },
          "metadata": {
            "tags": []
          }
        },
        {
          "output_type": "display_data",
          "data": {
            "image/png": "[encoded data removed]",
            "text/plain": [
              "<Figure size 432x288 with 1 Axes>"
            ]
          },
          "metadata": {
            "tags": []
          }
        },
        {
          "output_type": "display_data",
          "data": {
            "image/png": "[encoded data removed]",
            "text/plain": [
              "<Figure size 432x288 with 1 Axes>"
            ]
          },
          "metadata": {
            "tags": []
          }
        }
      ]
    },
    {
      "cell_type": "markdown",
      "metadata": {
        "colab_type": "text",
        "id": "E-A_mLSoVO9O"
      },
      "source": [
        "## Task 6: Visualization (10 points)\n",
        "Visualize feature maps of the first and the last convolutional layer of your final network using **cifar_example.jpg** as input image. Show the visualization in the report.\n",
        "\n",
        "#### First layer activations\n",
        "<img src=\"https://i.imgur.com/kGB9AuP.png\" width=\"400\" align=\"left\">"
      ]
    },
    {
      "cell_type": "markdown",
      "metadata": {
        "colab_type": "text",
        "id": "TsbbsIGKVO9P"
      },
      "source": [
        "#### Last layer activations\n",
        "\n",
        "<img src=\"https://i.imgur.com/qelH05X.png\" width=\"400\" align=\"left\">"
      ]
    },
    {
      "cell_type": "markdown",
      "metadata": {
        "colab_type": "text",
        "id": "vmlGWrPwVO90"
      },
      "source": [
        "## Save the Feature Maps"
      ]
    },
    {
      "cell_type": "code",
      "metadata": {
        "colab_type": "code",
        "id": "IhQxWX8RVO91",
        "colab": {}
      },
      "source": [
        "# TODO Task 6: Visualization"
      ],
      "execution_count": 0,
      "outputs": []
    },
    {
      "cell_type": "code",
      "metadata": {
        "colab_type": "code",
        "id": "gNX3eVEyVO94",
        "colab": {}
      },
      "source": [
        "def transfer_single_img_to_tensor(img_path):\n",
        "    im = Image.open(img_path)\n",
        "    img = np.asarray(im)/255\n",
        "    mean = np.array([0.5, 0.5, 0.5])\n",
        "    std = np.array([0.5, 0.5, 0.5])\n",
        "    \n",
        "    inp = (img - mean) / std\n",
        "    inp = np.asarray(inp, dtype=np.float32)\n",
        "    inp = inp.transpose((2, 0, 1))\n",
        "    inp = np.expand_dims(inp, axis=0)\n",
        "    inp = torch.from_numpy(inp, )\n",
        "    inputs = inp.to(device)\n",
        "    return inputs"
      ],
      "execution_count": 0,
      "outputs": []
    },
    {
      "cell_type": "code",
      "metadata": {
        "colab_type": "code",
        "id": "L0AqVUu9VO97",
        "outputId": "b47e757c-524f-4088-e2bb-110ead860ae5",
        "colab": {
          "resources": {
            "http://localhost:8080/nbextensions/google.colab/files.js": {
              "data": "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",
              "ok": true,
              "headers": [
                [
                  "content-type",
                  "application/javascript"
                ]
              ],
              "status": 200,
              "status_text": ""
            }
          },
          "base_uri": "https://localhost:8080/",
          "height": 75
        }
      },
      "source": [
        "from google.colab import files\n",
        "uploaded = files.upload()\n",
        "\n",
        "\n",
        "inputs = transfer_single_img_to_tensor('cifar_example.jpg')\n",
        "model_ft.eval()\n",
        "with torch.no_grad():\n",
        "    model_ft(inputs)"
      ],
      "execution_count": 0,
      "outputs": [
        {
          "output_type": "display_data",
          "data": {
            "text/html": [
              "\n",
              "     <input type=\"file\" id=\"files-7576ec8f-c50a-4e59-a806-d40dc0ce6a29\" name=\"files[]\" multiple disabled />\n",
              "     <output id=\"result-7576ec8f-c50a-4e59-a806-d40dc0ce6a29\">\n",
              "      Upload widget is only available when the cell has been executed in the\n",
              "      current browser session. Please rerun this cell to enable.\n",
              "      </output>\n",
              "      <script src=\"/nbextensions/google.colab/files.js\"></script> "
            ],
            "text/plain": [
              "<IPython.core.display.HTML object>"
            ]
          },
          "metadata": {
            "tags": []
          }
        },
        {
          "output_type": "stream",
          "text": [
            "Saving cifar_example.jpg to cifar_example (1).jpg\n"
          ],
          "name": "stdout"
        }
      ]
    },
    {
      "cell_type": "code",
      "metadata": {
        "id": "2zDX7_dGcqdh",
        "colab_type": "code",
        "colab": {}
      },
      "source": [
        ""
      ],
      "execution_count": 0,
      "outputs": []
    },
    {
      "cell_type": "code",
      "metadata": {
        "colab_type": "code",
        "id": "I4Y-bqt2VO99",
        "colab": {}
      },
      "source": [
        "# Model_ft.featuremap1 and model_ft.featuremap2 should be the first and the last feature maps.\n",
        "# Add model_ft.featuremap1 and model_ft.featuremap2 at suitable places in your network\n",
        "\n",
        "feature_ouput1 = model_ft.featuremap1.transpose(1,0).cpu()\n",
        "feature_ouput2 = model_ft.featuremap2.transpose(1,0).cpu()"
      ],
      "execution_count": 0,
      "outputs": []
    },
    {
      "cell_type": "code",
      "metadata": {
        "colab_type": "code",
        "id": "m4Qy8s4BVO9_",
        "colab": {}
      },
      "source": [
        "def feature_imshow(inp, title=None):\n",
        "    \"\"\"Imshow for Tensor.\"\"\"\n",
        "    inp = inp.detach().numpy().transpose((1, 2, 0))\n",
        "    mean = np.array([0.5, 0.5, 0.5])\n",
        "    std = np.array([0.5, 0.5, 0.5])\n",
        "    inp = std * inp + mean\n",
        "    inp = np.clip(inp, 0, 1)\n",
        "    plt.imshow(inp)\n",
        "    if title is not None:\n",
        "        plt.title(title)\n",
        "    plt.pause(0.001)  # pause a bit so that plots are updated"
      ],
      "execution_count": 0,
      "outputs": []
    },
    {
      "cell_type": "code",
      "metadata": {
        "colab_type": "code",
        "id": "2ofvGE8-VO-B",
        "outputId": "34f4886d-a759-41e2-e073-8c6ac5cead7c",
        "colab": {
          "base_uri": "https://localhost:8080/",
          "height": 220
        }
      },
      "source": [
        "out = torchvision.utils.make_grid(feature_ouput1)\n",
        "feature_imshow(out)"
      ],
      "execution_count": 0,
      "outputs": [
        {
          "output_type": "display_data",
          "data": {
            "image/png": "[encoded data removed]",
            "text/plain": [
              "<Figure size 432x288 with 1 Axes>"
            ]
          },
          "metadata": {
            "tags": []
          }
        }
      ]
    },
    {
      "cell_type": "code",
      "metadata": {
        "colab_type": "code",
        "id": "0Mo1xtSzVO-E",
        "outputId": "b8a86964-0626-4de0-f9bd-4e9b36502877",
        "colab": {
          "base_uri": "https://localhost:8080/",
          "height": 269
        }
      },
      "source": [
        "out = torchvision.utils.make_grid(feature_ouput2)\n",
        "feature_imshow(out)"
      ],
      "execution_count": 0,
      "outputs": [
        {
          "output_type": "display_data",
          "data": {
            "image/png": "[encoded data removed]",
            "text/plain": [
              "<Figure size 432x288 with 1 Axes>"
            ]
          },
          "metadata": {
            "tags": []
          }
        }
      ]
    },
    {
      "cell_type": "code",
      "metadata": {
        "id": "Zph006kUcMYD",
        "colab_type": "code",
        "colab": {}
      },
      "source": [
        ""
      ],
      "execution_count": 0,
      "outputs": []
    }
  ]
}