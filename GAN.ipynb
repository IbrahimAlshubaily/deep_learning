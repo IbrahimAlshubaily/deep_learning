{
  "nbformat": 4,
  "nbformat_minor": 0,
  "metadata": {
    "accelerator": "GPU",
    "colab": {
      "name": "GAN_assignment_IBRA.ipynb",
      "provenance": [],
      "collapsed_sections": [],
      "toc_visible": true
    },
    "kernelspec": {
      "display_name": "Python 3",
      "language": "python",
      "name": "python3"
    },
    "language_info": {
      "codemirror_mode": {
        "name": "ipython",
        "version": 3
      },
      "file_extension": ".py",
      "mimetype": "text/x-python",
      "name": "python",
      "nbconvert_exporter": "python",
      "pygments_lexer": "ipython3",
      "version": "3.7.3"
    }
  },
  "cells": [
    {
      "cell_type": "markdown",
      "metadata": {
        "colab_type": "text",
        "id": "4841BAqUVAIl"
      },
      "source": [
        "Project 4: Generative Adversarial Networks\n",
        "======\n",
        "In this project, you are expected to fill in the missing parts of a PyTorch implementation of the Deep Convolutional Generative Adversarial Network (DCGAN) [1] and test its performance on several datasets.<br>\n",
        "Please **read the instructions carefully**. We provide reference outputs for most tasks and we will judge your solution based on your code as well as on the quality of your output and similarity to our results.\n",
        "\n",
        "We will be using datasets with small images for this project, because high-resolution GANs take notoriously long to train.\n",
        "\n",
        "**References:**\n",
        "\n",
        "[1] [Radford, A., Metz, L. and Chintala, S., 2015. Unsupervised representation learning with deep convolutional generative adversarial networks. arXiv preprint arXiv:1511.06434.](https://arxiv.org/abs/1511.06434)\n",
        "\n",
        "[2] [MNIST dataset.](http://yann.lecun.com/exdb/mnist/)\n",
        "\n",
        "[3] [FashionMNIST dataset.](https://github.com/zalandoresearch/fashion-mnist)\n",
        "\n",
        "[4] [UTKFace dataset.](https://susanqq.github.io/UTKFace/)"
      ]
    },
    {
      "cell_type": "markdown",
      "metadata": {
        "colab_type": "text",
        "id": "VhUNpovQVAIo"
      },
      "source": [
        "## Assignment 4A: DCGAN"
      ]
    },
    {
      "cell_type": "markdown",
      "metadata": {
        "colab_type": "text",
        "id": "ty9WJFhwVAIp"
      },
      "source": [
        "### Verify your PyTorch installation"
      ]
    },
    {
      "cell_type": "code",
      "metadata": {
        "colab_type": "code",
        "id": "9UblxF0uVAIr",
        "outputId": "6d1b2a67-1822-46a8-cb12-384f9b4b6523",
        "colab": {
          "base_uri": "https://localhost:8080/",
          "height": 51
        }
      },
      "source": [
        "import torch\n",
        "import torchvision\n",
        "\n",
        "# Print Basic Information\n",
        "print('Torch', torch.__version__)\n",
        "device = torch.device(\"cuda\" if torch.cuda.is_available() else \"cpu\")\n",
        "print('Device:', device)"
      ],
      "execution_count": 0,
      "outputs": [
        {
          "output_type": "stream",
          "text": [
            "Torch 1.3.0+cu100\n",
            "Device: cuda\n"
          ],
          "name": "stdout"
        }
      ]
    },
    {
      "cell_type": "code",
      "metadata": {
        "colab_type": "code",
        "id": "zJkpEgd9VAIw",
        "colab": {}
      },
      "source": [
        "#import statements\n",
        "import os, time\n",
        "import matplotlib.pyplot as plt\n",
        "import itertools\n",
        "import pickle\n",
        "import imageio\n",
        "import torch.nn as nn\n",
        "import torch.nn.functional as F\n",
        "import torch.optim as optim\n",
        "from torchvision import datasets, transforms, utils\n",
        "from torch.autograd import Variable\n",
        "from torchsummary import summary\n",
        "import numpy as np"
      ],
      "execution_count": 0,
      "outputs": []
    },
    {
      "cell_type": "markdown",
      "metadata": {
        "colab_type": "text",
        "id": "atZudnxmVAIz"
      },
      "source": [
        "### 1) Load and prepare the dataset (5 points)\n",
        "\n",
        "Pick either _MNIST_ [2] or _FashionMNIST_ [3] as your dataset for this assignment. Both datasets contain grayscale images with a natural resolution of $28\\times28$ pixels, have 10 classes and can be imported from `torchvision.datasets`.<br>\n",
        "The color channels in the _MNIST_ as well as in _FashionMNIST_ dataset are stored inverted, ie with white content on a black background. This is because, per default, convolution layers in the network add zero-padding to the image, hence a black background works more naturally and yields better results during training.\n",
        "We do, however, want to show our results with **black content** on a **white background**. To that end, **add appropriate functionality** in the plotting/visualization functions throughout this notebook to invert and clamp the image values (see below visualization).\n",
        "\n",
        "<img src=\"./img/mnist_example.JPG\" width=\"800\">\n",
        "<img src=\"./img/fashion_mnist_example.JPG\" width=\"800\">\n"
      ]
    },
    {
      "cell_type": "markdown",
      "metadata": {
        "colab_type": "text",
        "id": "Ga-AyVqTVAI0"
      },
      "source": [
        "Implement the data loading, create the necessary **data transforms** such that your training images have $32\\times32$ pixels, and have a value range between $[-1, 1]$:\n",
        "\n",
        "Consider whether you can implement some **data augmentation**, and if possible, do so."
      ]
    },
    {
      "cell_type": "code",
      "metadata": {
        "colab_type": "code",
        "id": "p9VGZ0MMVAI1",
        "outputId": "b43fb531-707d-40fd-f199-0f6c47211009",
        "colab": {
          "base_uri": "https://localhost:8080/",
          "height": 326
        }
      },
      "source": [
        "#######################################################################################################\n",
        "# TODO 1: Load dataset. Implement the necessary functions so your data has a resolution of 32x32 pixels\n",
        "# and the values are normalized to a [-1, 1] range. \n",
        "# Consider whether you can implement some data augmentation, and if possible, do so.\n",
        "#######################################################################################################\n",
        "train_dataset = datasets.MNIST('./data/', train=True, download=True,\n",
        "                       transform=transforms.Compose([\n",
        "                           transforms.ToTensor(),\n",
        "                           transforms.Normalize((0.5,), (0.5,))\n",
        "                       ]))\n",
        "\n",
        "print(\"Dataset length: \", len(train_dataset))\n",
        "print(\"Image size: {}\".format(train_dataset[0][0].size()))\n",
        "print(\"value range: [ {} - {} ]\".format(torch.min(train_dataset[0][0]), torch.max(train_dataset[0][0])))"
      ],
      "execution_count": 0,
      "outputs": [
        {
          "output_type": "stream",
          "text": [
            "\r0it [00:00, ?it/s]"
          ],
          "name": "stderr"
        },
        {
          "output_type": "stream",
          "text": [
            "Downloading http://yann.lecun.com/exdb/mnist/train-images-idx3-ubyte.gz to ./data/MNIST/raw/train-images-idx3-ubyte.gz\n"
          ],
          "name": "stdout"
        },
        {
          "output_type": "stream",
          "text": [
            "9920512it [00:01, 8694805.36it/s]                            \n"
          ],
          "name": "stderr"
        },
        {
          "output_type": "stream",
          "text": [
            "Extracting ./data/MNIST/raw/train-images-idx3-ubyte.gz to ./data/MNIST/raw\n"
          ],
          "name": "stdout"
        },
        {
          "output_type": "stream",
          "text": [
            "  0%|          | 0/28881 [00:00<?, ?it/s]"
          ],
          "name": "stderr"
        },
        {
          "output_type": "stream",
          "text": [
            "Downloading http://yann.lecun.com/exdb/mnist/train-labels-idx1-ubyte.gz to ./data/MNIST/raw/train-labels-idx1-ubyte.gz\n"
          ],
          "name": "stdout"
        },
        {
          "output_type": "stream",
          "text": [
            "32768it [00:00, 134792.84it/s]           \n",
            "  0%|          | 0/1648877 [00:00<?, ?it/s]"
          ],
          "name": "stderr"
        },
        {
          "output_type": "stream",
          "text": [
            "Extracting ./data/MNIST/raw/train-labels-idx1-ubyte.gz to ./data/MNIST/raw\n",
            "Downloading http://yann.lecun.com/exdb/mnist/t10k-images-idx3-ubyte.gz to ./data/MNIST/raw/t10k-images-idx3-ubyte.gz\n"
          ],
          "name": "stdout"
        },
        {
          "output_type": "stream",
          "text": [
            "1654784it [00:00, 2316356.96it/s]                            \n",
            "0it [00:00, ?it/s]"
          ],
          "name": "stderr"
        },
        {
          "output_type": "stream",
          "text": [
            "Extracting ./data/MNIST/raw/t10k-images-idx3-ubyte.gz to ./data/MNIST/raw\n",
            "Downloading http://yann.lecun.com/exdb/mnist/t10k-labels-idx1-ubyte.gz to ./data/MNIST/raw/t10k-labels-idx1-ubyte.gz\n"
          ],
          "name": "stdout"
        },
        {
          "output_type": "stream",
          "text": [
            "8192it [00:00, 51523.12it/s]            "
          ],
          "name": "stderr"
        },
        {
          "output_type": "stream",
          "text": [
            "Extracting ./data/MNIST/raw/t10k-labels-idx1-ubyte.gz to ./data/MNIST/raw\n",
            "Processing...\n",
            "Done!\n",
            "Dataset length:  60000\n",
            "Image size: torch.Size([1, 28, 28])\n",
            "value range: [ -1.0 - 1.0 ]\n"
          ],
          "name": "stdout"
        },
        {
          "output_type": "stream",
          "text": [
            "\n"
          ],
          "name": "stderr"
        }
      ]
    },
    {
      "cell_type": "markdown",
      "metadata": {
        "colab_type": "text",
        "id": "b3nTnEroVAI3"
      },
      "source": [
        "#### Inspect the training data\n",
        "\n",
        "**Visualize a few examples** from your training data."
      ]
    },
    {
      "cell_type": "code",
      "metadata": {
        "colab_type": "code",
        "id": "jGR_naFsVAI3",
        "outputId": "e1076f93-5bae-43b7-a26a-c8301477e7a6",
        "colab": {
          "base_uri": "https://localhost:8080/",
          "height": 482
        }
      },
      "source": [
        "labels = train_dataset.classes\n",
        "fig = plt.figure(figsize=(16, 8))\n",
        "rows = 6\n",
        "\n",
        "images = {}\n",
        "for label in range(len(labels)):\n",
        "    images[label] = []\n",
        "\n",
        "#find some images for each label    \n",
        "for x in range(1000):\n",
        "    rand = np.random.randint(len(train_dataset))\n",
        "    label = train_dataset[rand][1]\n",
        "    if len(images[label]) > rows:\n",
        "        continue\n",
        "    images[label].append(train_dataset[rand][0][0,:,:])\n",
        "    \n",
        "for label in range(len(labels)):\n",
        "    for row in range(rows):\n",
        "        image = images[label][row]\n",
        "        fig.add_subplot(rows, len(labels), row * len(labels) + label + 1)\n",
        "        plt.axis('off')\n",
        "        plt.imshow(image, cmap='gray')\n",
        "        if row == 0:\n",
        "            plt.title(labels[label])\n",
        "plt.show()"
      ],
      "execution_count": 0,
      "outputs": [
        {
          "output_type": "display_data",
          "data": {
            "image/png": "[encoded data removed]",
            "text/plain": [
              "<Figure size 1152x576 with 60 Axes>"
            ]
          },
          "metadata": {
            "tags": []
          }
        }
      ]
    },
    {
      "cell_type": "markdown",
      "metadata": {
        "colab_type": "text",
        "id": "G4n_yv6YVAI5"
      },
      "source": [
        "### 2) Choose appropriate hyperparameters for the training (4 points)"
      ]
    },
    {
      "cell_type": "code",
      "metadata": {
        "colab_type": "code",
        "id": "i4ASEJwNVAI5",
        "colab": {}
      },
      "source": [
        "#######################################################################################################\n",
        "# TODO 2: choose sensible training parameters for DCGAN training. \n",
        "# Start with few epochs while you design the network, and increase once you think you have a good setup.\n",
        "# Since GANs train slowly, you may have to use at quite a few epochs to see good results.\n",
        "#######################################################################################################\n",
        "batch_size = 32 \n",
        "lr = 0.0002\n",
        "num_epochs = 15"
      ],
      "execution_count": 0,
      "outputs": []
    },
    {
      "cell_type": "markdown",
      "metadata": {
        "colab_type": "text",
        "id": "Pvo5DTbYVAI7"
      },
      "source": [
        "### 3) Implement the generator network (8 points)\n",
        "The expected output of this GAN should look like this (or better):\n",
        "\n",
        "<img src=\"img/DCGAN_MNIST.png\" align='left' width=\"355\">\n",
        "<img src=\"img/DCGAN_fashionMNIST.png\" align='left' width=\"355\">"
      ]
    },
    {
      "cell_type": "markdown",
      "metadata": {
        "colab_type": "text",
        "id": "rSEh3yOwVAI7"
      },
      "source": [
        "Implement the **DCGAN Generator** and **Discriminator** networks for an output size of $32\\times32$ pixels according to the given network diagrams. \n",
        "\n",
        "<img src=\"img/DCGAN_generator.png\" align='left' width=\"800\">"
      ]
    },
    {
      "cell_type": "markdown",
      "metadata": {
        "colab_type": "text",
        "id": "jiiVHG5FVAI7"
      },
      "source": [
        "Create a function to initialize the weights for `nn.Conv2d` and `nn.ConvTranspose2d` layers with a custom distribution. To that end, complete the function `normal_init`, which initialized the weights of the given pytorch layer with a Normal distribution centered around $mean$ and a standard deviation $std$.\n",
        "\n",
        "##### Hint: \n",
        "`summary` from the `torchsummary` package is a very helpful tool to inspect the layers in your network. Use it like so:\n",
        "\n",
        "```\n",
        "M = MyNetwork()\n",
        "M.cuda()\n",
        "summary(M, input_size=myExpectedInputSize)\n",
        "```"
      ]
    },
    {
      "cell_type": "code",
      "metadata": {
        "colab_type": "code",
        "id": "_OByPycUVAI8",
        "colab": {}
      },
      "source": [
        "#######################################################################################################\n",
        "# TODO 3a: implement a function that initializes the layer's weights with mean and standard deviation.\n",
        "#######################################################################################################\n",
        "\n",
        "def normal_init(layer, mean, std):\n",
        "  nn.init.normal_(layer, mean, std).to(device)"
      ],
      "execution_count": 0,
      "outputs": []
    },
    {
      "cell_type": "code",
      "metadata": {
        "colab_type": "code",
        "id": "a74CRo0QVAI9",
        "outputId": "7511d363-0c88-4258-e8e2-95183e7dc6e6",
        "colab": {
          "base_uri": "https://localhost:8080/",
          "height": 272
        }
      },
      "source": [
        "#######################################################################################################\n",
        "# TODO 3b: implement the generator network for a DCGAN with output size 32x32px\n",
        "#######################################################################################################\n",
        "class Generator(nn.Module):\n",
        "    def __init__(self):\n",
        "        super(Generator, self).__init__()\n",
        "        self.network = nn.Sequential(\n",
        "            nn.ConvTranspose2d(100, 512, 4, 1),\n",
        "            nn.BatchNorm2d(512),\n",
        "            nn.ReLU(),\n",
        "\n",
        "            nn.ConvTranspose2d(512, 256, 4, 2, 1),\n",
        "            nn.BatchNorm2d(256),\n",
        "            nn.ReLU(),\n",
        "\n",
        "            nn.ConvTranspose2d(256, 128, 4, 2, 2),\n",
        "            nn.BatchNorm2d(128),\n",
        "            nn.ReLU(),\n",
        "\n",
        "\n",
        "            nn.ConvTranspose2d(128, 1, 4, 2, 1),\n",
        "            nn.Tanh()\n",
        "        )\n",
        "\n",
        "    # forward method\n",
        "    def forward(self, input):\n",
        "        return self.network(input)\n",
        "    \n",
        "    # weight_init\n",
        "    def weight_init(self, mean, std):\n",
        "        self.network.apply(normal_init)\n",
        "Generator()"
      ],
      "execution_count": 0,
      "outputs": [
        {
          "output_type": "execute_result",
          "data": {
            "text/plain": [
              "Generator(\n",
              "  (network): Sequential(\n",
              "    (0): ConvTranspose2d(100, 512, kernel_size=(4, 4), stride=(1, 1))\n",
              "    (1): BatchNorm2d(512, eps=1e-05, momentum=0.1, affine=True, track_running_stats=True)\n",
              "    (2): ReLU()\n",
              "    (3): ConvTranspose2d(512, 256, kernel_size=(4, 4), stride=(2, 2), padding=(1, 1))\n",
              "    (4): BatchNorm2d(256, eps=1e-05, momentum=0.1, affine=True, track_running_stats=True)\n",
              "    (5): ReLU()\n",
              "    (6): ConvTranspose2d(256, 128, kernel_size=(4, 4), stride=(2, 2), padding=(2, 2))\n",
              "    (7): BatchNorm2d(128, eps=1e-05, momentum=0.1, affine=True, track_running_stats=True)\n",
              "    (8): ReLU()\n",
              "    (9): ConvTranspose2d(128, 1, kernel_size=(4, 4), stride=(2, 2), padding=(1, 1))\n",
              "    (10): Tanh()\n",
              "  )\n",
              ")"
            ]
          },
          "metadata": {
            "tags": []
          },
          "execution_count": 7
        }
      ]
    },
    {
      "cell_type": "markdown",
      "metadata": {
        "colab_type": "text",
        "id": "Xu55ghZKVAI-"
      },
      "source": [
        "### 4) Implement the discriminator network (8 points)\n",
        "<img src=\"img/DCGAN_discriminator.png\" align='left' width=\"800\">"
      ]
    },
    {
      "cell_type": "code",
      "metadata": {
        "colab_type": "code",
        "id": "YQHDkATyVAI-",
        "outputId": "7fe84a7e-a5e4-4bb9-e069-d0ac78a80896",
        "colab": {
          "base_uri": "https://localhost:8080/",
          "height": 272
        }
      },
      "source": [
        "#######################################################################################################\n",
        "# TODO 3c: implement the discriminator network for a DCGAN with input size 32x32px\n",
        "#######################################################################################################\n",
        "class Discriminator(nn.Module):\n",
        "    def __init__(self):\n",
        "        super(Discriminator, self).__init__()\n",
        "        self.network = nn.Sequential(\n",
        "            nn.Conv2d(1, 128, 4, 2, 1),\n",
        "            nn.BatchNorm2d(128),\n",
        "            nn.LeakyReLU(0.2),\n",
        "\n",
        "            nn.Conv2d(128, 256, 4, 2, 1),\n",
        "            nn.BatchNorm2d(256),\n",
        "            nn.LeakyReLU(0.2),\n",
        "\n",
        "            nn.Conv2d(256, 512, 4, 2, 1),\n",
        "            nn.BatchNorm2d(512),\n",
        "            nn.LeakyReLU(0.2),\n",
        "\n",
        "            nn.Conv2d(512, 1, 3, 1),\n",
        "            nn.Sigmoid()\n",
        "        )\n",
        "    # forward method\n",
        "    def forward(self, input):\n",
        "        return self.network(input)\n",
        "    \n",
        "    # weight_init\n",
        "    def weight_init(self, mean, std):\n",
        "      self.network.apply(normal_init)\n",
        "Discriminator()"
      ],
      "execution_count": 0,
      "outputs": [
        {
          "output_type": "execute_result",
          "data": {
            "text/plain": [
              "Discriminator(\n",
              "  (network): Sequential(\n",
              "    (0): Conv2d(1, 128, kernel_size=(4, 4), stride=(2, 2), padding=(1, 1))\n",
              "    (1): BatchNorm2d(128, eps=1e-05, momentum=0.1, affine=True, track_running_stats=True)\n",
              "    (2): LeakyReLU(negative_slope=0.2)\n",
              "    (3): Conv2d(128, 256, kernel_size=(4, 4), stride=(2, 2), padding=(1, 1))\n",
              "    (4): BatchNorm2d(256, eps=1e-05, momentum=0.1, affine=True, track_running_stats=True)\n",
              "    (5): LeakyReLU(negative_slope=0.2)\n",
              "    (6): Conv2d(256, 512, kernel_size=(4, 4), stride=(2, 2), padding=(1, 1))\n",
              "    (7): BatchNorm2d(512, eps=1e-05, momentum=0.1, affine=True, track_running_stats=True)\n",
              "    (8): LeakyReLU(negative_slope=0.2)\n",
              "    (9): Conv2d(512, 1, kernel_size=(3, 3), stride=(1, 1))\n",
              "    (10): Sigmoid()\n",
              "  )\n",
              ")"
            ]
          },
          "metadata": {
            "tags": []
          },
          "execution_count": 8
        }
      ]
    },
    {
      "cell_type": "code",
      "metadata": {
        "colab_type": "code",
        "id": "tjy0wzDKVAI_",
        "outputId": "4d6f7da3-17dc-413b-ac2f-d6822cdd3103",
        "colab": {
          "base_uri": "https://localhost:8080/",
          "height": 483
        }
      },
      "source": [
        "grid_size = 6\n",
        "\n",
        "#######################################################################################################\n",
        "# TODO 4: generate a fixed noise vector to repeatedly evaluate the output of the generator \n",
        "# with the same noise vector as training progresses\n",
        "#######################################################################################################\n",
        "fixed_z = torch.randn(1, 100, 1, 1).to(device)\n",
        "\n",
        "# output generated samples from the current state of the generator network\n",
        "def show_result(num_epoch, show=False, save=False, grid_size=6, path = 'result.png', useFixed=False):\n",
        "    with torch.no_grad():\n",
        "        if useFixed:   \n",
        "            fake = G(fixed_z).cpu()\n",
        "        else:\n",
        "            # TODO generate a new random noise vector\n",
        "            z = torch.randn(1, 100, 1, 1).to(device)\n",
        "            fake = G(z).cpu()\n",
        "\n",
        "        fig, ax = plt.subplots(figsize=(8, 8))\n",
        "        \n",
        "        image = utils.make_grid(fake.data, grid_size, 1)\n",
        "        \n",
        "        plt.imshow(np.transpose(image, (1, 2, 0)))    \n",
        "        ax.axis('off')\n",
        "        plt.savefig(path)\n",
        "        if show:\n",
        "            plt.show()\n",
        "        else:\n",
        "            plt.close()\n",
        "\n",
        "# plot the losses over time as a curve            \n",
        "def plot_losses(hist, show=True, save=False, path='progress.png'):\n",
        "    x = range(len(hist['D_losses']))\n",
        "\n",
        "    y1 = hist['D_losses']\n",
        "    y2 = hist['G_losses']\n",
        "\n",
        "    plt.plot(x, y1, label='D_loss')\n",
        "    plt.plot(x, y2, label='G_loss')\n",
        "\n",
        "    plt.xlabel('Iteration')\n",
        "    plt.ylabel('Loss')\n",
        "\n",
        "    plt.legend(loc=4)\n",
        "    plt.grid(True)\n",
        "    plt.tight_layout()\n",
        "\n",
        "    if save:\n",
        "        plt.savefig(path)\n",
        "\n",
        "    if show:\n",
        "        plt.show()\n",
        "    else:\n",
        "        plt.close()\n",
        "G = Generator().to(device)\n",
        "show_result( 0, show=True, path=' ', useFixed=False )"
      ],
      "execution_count": 0,
      "outputs": [
        {
          "output_type": "stream",
          "text": [
            "Clipping input data to the valid range for imshow with RGB data ([0..1] for floats or [0..255] for integers).\n"
          ],
          "name": "stderr"
        },
        {
          "output_type": "display_data",
          "data": {
            "image/png": "[encoded data removed]",
            "text/plain": [
              "<Figure size 576x576 with 1 Axes>"
            ]
          },
          "metadata": {
            "tags": []
          }
        }
      ]
    },
    {
      "cell_type": "markdown",
      "metadata": {
        "colab_type": "text",
        "id": "cC6ttp1iVAJA"
      },
      "source": [
        "### 5) Training Setup (5 points) and Training Loop (10 points)\n",
        "\n",
        "Instantiate a Generator and a Discriminator network, move networks to GPU and initialize the weights of their convolutional layers with $\\mu=0$ and $\\sigma=0.02$.\n",
        "\n",
        "Create an ADAM optimizer for the generator as well as the discriminator with your chosen learning rate. Use $\\beta_1=0.5$ and $\\beta_2=0.999$ as described in Section 4 of the paper.\n",
        "\n",
        "In the training loop, evaluate the output of the generator network on a random latent vector of length 100. Then, evaluate the performance of the discriminator on the generated images as well as the real image minibatch. Assign the real results the label $1$ (`torch.ones`) and the fake results the label $0$ (`torch.zeros`), then calculate the losses for each of these steps using Binary Cross Entropy loss.\n",
        "        \n",
        "\n",
        "#### Hint:\n",
        "If you would like to load a stored model for additional training or for evaluation, you can do it the following way:\n",
        "```\n",
        "M = MyNetwork() #instantiate the network\n",
        "checkpoint = torch.load(\"path_to_stored_network.pkl\")\n",
        "M.load_state_dict(checkpoint)\n",
        "M.eval()\n",
        "``` \n",
        "\n",
        "*If your model fails to train properly, include the failure cases into your report, explain what you think went wrong, and try again!*"
      ]
    },
    {
      "cell_type": "code",
      "metadata": {
        "colab_type": "code",
        "id": "iGkNJNy4VAJA",
        "outputId": "a9df7fc6-7700-4cd7-ead5-76f0f753fe85",
        "colab": {
          "base_uri": "https://localhost:8080/",
          "height": 1000
        }
      },
      "source": [
        "data_loader = torch.utils.data.DataLoader(train_dataset, batch_size=batch_size, shuffle=True)\n",
        "\n",
        "dset_name = 'mnist' #pick a meaningful name\n",
        "result_dir = '{}_DCGAN'.format(dset_name)\n",
        "\n",
        "\n",
        "\n",
        "#######################################################################################################\n",
        "# TODO 5a: Fill code for training setup\n",
        "#######################################################################################################\n",
        "\n",
        "# define networks\n",
        "G = Generator().to(device)\n",
        "D = Discriminator().to(device)\n",
        "# define optimizers\n",
        "G_optimizer = optim.Adam(G.parameters(), lr=lr, betas=(0.5, 0.999))\n",
        "D_optimizer = optim.Adam(D.parameters(), lr=lr, betas=(0.5, 0.999))\n",
        "\n",
        "# calculate the losses for each of these steps using Binary Cross Entropy loss.\n",
        "loss = nn.BCELoss()\n",
        "num_epochs = 20\n",
        "\n",
        "# results save folder\n",
        "if not os.path.isdir(result_dir):\n",
        "    os.mkdir(result_dir)\n",
        "if not os.path.isdir(result_dir+'/Random'):\n",
        "    os.mkdir(result_dir+'/Random')\n",
        "if not os.path.isdir(result_dir+'/Fixed'):\n",
        "    os.mkdir(result_dir+'/Fixed')\n",
        "\n",
        "progress = {}\n",
        "progress['D_losses'] = []\n",
        "progress['G_losses'] = []\n",
        "progress['per_epoch_times'] = []\n",
        "progress['total_time'] = []\n",
        "num_iter = 0\n",
        "\n",
        "# start training loop\n",
        "print('Training ...')\n",
        "start_time = time.time()\n",
        "for epoch in range(num_epochs):\n",
        "    \n",
        "    D_losses = []\n",
        "    G_losses = []\n",
        "    \n",
        "    epoch_start_time = time.time()\n",
        "    for real, _ in data_loader:\n",
        "        real = real.to(device)\n",
        "        batch_size = real.size(0)\n",
        "\n",
        "        #######################################################################################################\n",
        "        # TODO 5b: Fill code for training loop\n",
        "        #######################################################################################################\n",
        "        \n",
        "        # generate random latent vector z and real and fake labels \n",
        "        z =  torch.randn(batch_size, 100, 1, 1).to(device)\n",
        "        fake_labels = torch.zeros(batch_size).to(device)\n",
        "        real_labels = torch.ones(batch_size).to(device)\n",
        "\n",
        "        # generate fakes  \n",
        "        fakes = G(z)\n",
        "\n",
        "        # evaluate fakes\n",
        "        fake_pred = D(fakes).view(-1)\n",
        "\n",
        "        fake_loss = loss(fake_pred, fake_labels)\n",
        "\n",
        "        # evaluate real minibatch\n",
        "        real_pred = D(real).view(-1)\n",
        "        real_loss = loss(real_pred, real_labels)\n",
        "\n",
        "        # accumulate discriminator loss from the information about the real and fake images it just saw\n",
        "        D_train_loss = fake_loss + real_loss\n",
        "\n",
        "        # train discriminator D step\n",
        "        D.zero_grad()\n",
        "        D_train_loss.backward()\n",
        "        D_optimizer.step()    \n",
        "        \n",
        "        # train generator to output an image that is classified as real   \n",
        "        fakes = G(z)\n",
        "        # evaluate fakes\n",
        "        fake_pred = D(fakes).view(-1)\n",
        "        G_train_loss = loss(fake_pred, real_labels)  \n",
        "        \n",
        "        # train generator G step\n",
        "        G.zero_grad()\n",
        "        G_train_loss.backward()\n",
        "        G_optimizer.step()              \n",
        "\n",
        "\n",
        "        D_losses.append(D_train_loss.data.item())\n",
        "        G_losses.append(G_train_loss.data.item())\n",
        "\n",
        "        num_iter += 1\n",
        "\n",
        "    epoch_end_time = time.time()\n",
        "    per_epoch_time = epoch_end_time - epoch_start_time\n",
        "    \n",
        "    print('Epoch [{} / {}] G loss: {} D loss: {}'.format(epoch + 1, num_epochs, G_train_loss, D_train_loss))\n",
        "\n",
        "    show_result( epoch, save=True, path=result_dir + '/Random/{}_DCGAN_{}.png'.format(dset_name, epoch), useFixed=False )\n",
        "    show_result( epoch, save=True, show=True, path=result_dir + '/Fixed/{}_DCGAN_{}.png'.format(dset_name, epoch), useFixed=True )\n",
        "    progress['D_losses'].append(torch.mean(torch.FloatTensor(D_losses)))\n",
        "    progress['G_losses'].append(torch.mean(torch.FloatTensor(G_losses)))\n",
        "    progress['per_epoch_times'].append(per_epoch_time)\n",
        "\n",
        "end_time = time.time()\n",
        "total_time = end_time - start_time\n",
        "progress['total_time'].append(total_time)\n",
        "\n",
        "print('Avg per epoch time: {:.2f} sec, total {:d} epochs time: {:.2f} min'.format(torch.mean(torch.FloatTensor(progress['per_epoch_times'])), num_epochs, total_time / 60))\n",
        "print('Training finished!')\n",
        "print('...saving training results')\n",
        "\n",
        "torch.save(G.state_dict(), result_dir + '/generator_network.pkl')\n",
        "torch.save(D.state_dict(), result_dir + '/discriminator_network.pkl')\n",
        "with open(result_dir + '/progress.pkl', 'wb') as f:\n",
        "    pickle.dump(progress, f)\n",
        "\n",
        "# plot the loss curves    \n",
        "plot_losses(progress, save=True, path=result_dir + '/{}_DCGAN_progress.png'.format(dset_name))\n",
        "\n",
        "# Visualize the training progress as an animated GIF\n",
        "images = []\n",
        "for e in range(num_epochs):\n",
        "    img_name = result_dir + '/Fixed/{}_DCGAN_{}.png'.format(dset_name, e)\n",
        "    images.append(imageio.imread(img_name))\n",
        "imageio.mimsave(result_dir + '/DCGAN_generation_animation.gif', images, fps=5)"
      ],
      "execution_count": 0,
      "outputs": [
        {
          "output_type": "stream",
          "text": [
            "Training ...\n"
          ],
          "name": "stdout"
        },
        {
          "output_type": "stream",
          "text": [
            "Clipping input data to the valid range for imshow with RGB data ([0..1] for floats or [0..255] for integers).\n",
            "Clipping input data to the valid range for imshow with RGB data ([0..1] for floats or [0..255] for integers).\n"
          ],
          "name": "stderr"
        },
        {
          "output_type": "stream",
          "text": [
            "Epoch [1 / 20] G loss: 3.2878429889678955 D loss: 0.6735537648200989\n"
          ],
          "name": "stdout"
        },
        {
          "output_type": "display_data",
          "data": {
            "image/png": "[encoded data removed]",
            "text/plain": [
              "<Figure size 576x576 with 1 Axes>"
            ]
          },
          "metadata": {
            "tags": []
          }
        },
        {
          "output_type": "stream",
          "text": [
            "Clipping input data to the valid range for imshow with RGB data ([0..1] for floats or [0..255] for integers).\n",
            "Clipping input data to the valid range for imshow with RGB data ([0..1] for floats or [0..255] for integers).\n"
          ],
          "name": "stderr"
        },
        {
          "output_type": "stream",
          "text": [
            "Epoch [2 / 20] G loss: 3.162753105163574 D loss: 0.7851129174232483\n"
          ],
          "name": "stdout"
        },
        {
          "output_type": "display_data",
          "data": {
            "image/png": "[encoded data removed]",
            "text/plain": [
              "<Figure size 576x576 with 1 Axes>"
            ]
          },
          "metadata": {
            "tags": []
          }
        },
        {
          "output_type": "error",
          "ename": "KeyboardInterrupt",
          "evalue": "ignored",
          "traceback": [
            "\u001b[0;31m---------------------------------------------------------------------------\u001b[0m",
            "\u001b[0;31mKeyboardInterrupt\u001b[0m                         Traceback (most recent call last)",
            "\u001b[0;32m<ipython-input-10-c2f7e8dc94a7>\u001b[0m in \u001b[0;36m<module>\u001b[0;34m()\u001b[0m\n\u001b[1;32m     45\u001b[0m \u001b[0;34m\u001b[0m\u001b[0m\n\u001b[1;32m     46\u001b[0m     \u001b[0mepoch_start_time\u001b[0m \u001b[0;34m=\u001b[0m \u001b[0mtime\u001b[0m\u001b[0;34m.\u001b[0m\u001b[0mtime\u001b[0m\u001b[0;34m(\u001b[0m\u001b[0;34m)\u001b[0m\u001b[0;34m\u001b[0m\u001b[0;34m\u001b[0m\u001b[0m\n\u001b[0;32m---> 47\u001b[0;31m     \u001b[0;32mfor\u001b[0m \u001b[0mreal\u001b[0m\u001b[0;34m,\u001b[0m \u001b[0m_\u001b[0m \u001b[0;32min\u001b[0m \u001b[0mdata_loader\u001b[0m\u001b[0;34m:\u001b[0m\u001b[0;34m\u001b[0m\u001b[0;34m\u001b[0m\u001b[0m\n\u001b[0m\u001b[1;32m     48\u001b[0m         \u001b[0mreal\u001b[0m \u001b[0;34m=\u001b[0m \u001b[0mreal\u001b[0m\u001b[0;34m.\u001b[0m\u001b[0mto\u001b[0m\u001b[0;34m(\u001b[0m\u001b[0mdevice\u001b[0m\u001b[0;34m)\u001b[0m\u001b[0;34m\u001b[0m\u001b[0;34m\u001b[0m\u001b[0m\n\u001b[1;32m     49\u001b[0m         \u001b[0mbatch_size\u001b[0m \u001b[0;34m=\u001b[0m \u001b[0mreal\u001b[0m\u001b[0;34m.\u001b[0m\u001b[0msize\u001b[0m\u001b[0;34m(\u001b[0m\u001b[0;36m0\u001b[0m\u001b[0;34m)\u001b[0m\u001b[0;34m\u001b[0m\u001b[0;34m\u001b[0m\u001b[0m\n",
            "\u001b[0;32m/usr/local/lib/python3.6/dist-packages/torch/utils/data/dataloader.py\u001b[0m in \u001b[0;36m__next__\u001b[0;34m(self)\u001b[0m\n\u001b[1;32m    344\u001b[0m     \u001b[0;32mdef\u001b[0m \u001b[0m__next__\u001b[0m\u001b[0;34m(\u001b[0m\u001b[0mself\u001b[0m\u001b[0;34m)\u001b[0m\u001b[0;34m:\u001b[0m\u001b[0;34m\u001b[0m\u001b[0;34m\u001b[0m\u001b[0m\n\u001b[1;32m    345\u001b[0m         \u001b[0mindex\u001b[0m \u001b[0;34m=\u001b[0m \u001b[0mself\u001b[0m\u001b[0;34m.\u001b[0m\u001b[0m_next_index\u001b[0m\u001b[0;34m(\u001b[0m\u001b[0;34m)\u001b[0m  \u001b[0;31m# may raise StopIteration\u001b[0m\u001b[0;34m\u001b[0m\u001b[0;34m\u001b[0m\u001b[0m\n\u001b[0;32m--> 346\u001b[0;31m         \u001b[0mdata\u001b[0m \u001b[0;34m=\u001b[0m \u001b[0mself\u001b[0m\u001b[0;34m.\u001b[0m\u001b[0m_dataset_fetcher\u001b[0m\u001b[0;34m.\u001b[0m\u001b[0mfetch\u001b[0m\u001b[0;34m(\u001b[0m\u001b[0mindex\u001b[0m\u001b[0;34m)\u001b[0m  \u001b[0;31m# may raise StopIteration\u001b[0m\u001b[0;34m\u001b[0m\u001b[0;34m\u001b[0m\u001b[0m\n\u001b[0m\u001b[1;32m    347\u001b[0m         \u001b[0;32mif\u001b[0m \u001b[0mself\u001b[0m\u001b[0;34m.\u001b[0m\u001b[0m_pin_memory\u001b[0m\u001b[0;34m:\u001b[0m\u001b[0;34m\u001b[0m\u001b[0;34m\u001b[0m\u001b[0m\n\u001b[1;32m    348\u001b[0m             \u001b[0mdata\u001b[0m \u001b[0;34m=\u001b[0m \u001b[0m_utils\u001b[0m\u001b[0;34m.\u001b[0m\u001b[0mpin_memory\u001b[0m\u001b[0;34m.\u001b[0m\u001b[0mpin_memory\u001b[0m\u001b[0;34m(\u001b[0m\u001b[0mdata\u001b[0m\u001b[0;34m)\u001b[0m\u001b[0;34m\u001b[0m\u001b[0;34m\u001b[0m\u001b[0m\n",
            "\u001b[0;32m/usr/local/lib/python3.6/dist-packages/torch/utils/data/_utils/fetch.py\u001b[0m in \u001b[0;36mfetch\u001b[0;34m(self, possibly_batched_index)\u001b[0m\n\u001b[1;32m     42\u001b[0m     \u001b[0;32mdef\u001b[0m \u001b[0mfetch\u001b[0m\u001b[0;34m(\u001b[0m\u001b[0mself\u001b[0m\u001b[0;34m,\u001b[0m \u001b[0mpossibly_batched_index\u001b[0m\u001b[0;34m)\u001b[0m\u001b[0;34m:\u001b[0m\u001b[0;34m\u001b[0m\u001b[0;34m\u001b[0m\u001b[0m\n\u001b[1;32m     43\u001b[0m         \u001b[0;32mif\u001b[0m \u001b[0mself\u001b[0m\u001b[0;34m.\u001b[0m\u001b[0mauto_collation\u001b[0m\u001b[0;34m:\u001b[0m\u001b[0;34m\u001b[0m\u001b[0;34m\u001b[0m\u001b[0m\n\u001b[0;32m---> 44\u001b[0;31m             \u001b[0mdata\u001b[0m \u001b[0;34m=\u001b[0m \u001b[0;34m[\u001b[0m\u001b[0mself\u001b[0m\u001b[0;34m.\u001b[0m\u001b[0mdataset\u001b[0m\u001b[0;34m[\u001b[0m\u001b[0midx\u001b[0m\u001b[0;34m]\u001b[0m \u001b[0;32mfor\u001b[0m \u001b[0midx\u001b[0m \u001b[0;32min\u001b[0m \u001b[0mpossibly_batched_index\u001b[0m\u001b[0;34m]\u001b[0m\u001b[0;34m\u001b[0m\u001b[0;34m\u001b[0m\u001b[0m\n\u001b[0m\u001b[1;32m     45\u001b[0m         \u001b[0;32melse\u001b[0m\u001b[0;34m:\u001b[0m\u001b[0;34m\u001b[0m\u001b[0;34m\u001b[0m\u001b[0m\n\u001b[1;32m     46\u001b[0m             \u001b[0mdata\u001b[0m \u001b[0;34m=\u001b[0m \u001b[0mself\u001b[0m\u001b[0;34m.\u001b[0m\u001b[0mdataset\u001b[0m\u001b[0;34m[\u001b[0m\u001b[0mpossibly_batched_index\u001b[0m\u001b[0;34m]\u001b[0m\u001b[0;34m\u001b[0m\u001b[0;34m\u001b[0m\u001b[0m\n",
            "\u001b[0;32m/usr/local/lib/python3.6/dist-packages/torch/utils/data/_utils/fetch.py\u001b[0m in \u001b[0;36m<listcomp>\u001b[0;34m(.0)\u001b[0m\n\u001b[1;32m     42\u001b[0m     \u001b[0;32mdef\u001b[0m \u001b[0mfetch\u001b[0m\u001b[0;34m(\u001b[0m\u001b[0mself\u001b[0m\u001b[0;34m,\u001b[0m \u001b[0mpossibly_batched_index\u001b[0m\u001b[0;34m)\u001b[0m\u001b[0;34m:\u001b[0m\u001b[0;34m\u001b[0m\u001b[0;34m\u001b[0m\u001b[0m\n\u001b[1;32m     43\u001b[0m         \u001b[0;32mif\u001b[0m \u001b[0mself\u001b[0m\u001b[0;34m.\u001b[0m\u001b[0mauto_collation\u001b[0m\u001b[0;34m:\u001b[0m\u001b[0;34m\u001b[0m\u001b[0;34m\u001b[0m\u001b[0m\n\u001b[0;32m---> 44\u001b[0;31m             \u001b[0mdata\u001b[0m \u001b[0;34m=\u001b[0m \u001b[0;34m[\u001b[0m\u001b[0mself\u001b[0m\u001b[0;34m.\u001b[0m\u001b[0mdataset\u001b[0m\u001b[0;34m[\u001b[0m\u001b[0midx\u001b[0m\u001b[0;34m]\u001b[0m \u001b[0;32mfor\u001b[0m \u001b[0midx\u001b[0m \u001b[0;32min\u001b[0m \u001b[0mpossibly_batched_index\u001b[0m\u001b[0;34m]\u001b[0m\u001b[0;34m\u001b[0m\u001b[0;34m\u001b[0m\u001b[0m\n\u001b[0m\u001b[1;32m     45\u001b[0m         \u001b[0;32melse\u001b[0m\u001b[0;34m:\u001b[0m\u001b[0;34m\u001b[0m\u001b[0;34m\u001b[0m\u001b[0m\n\u001b[1;32m     46\u001b[0m             \u001b[0mdata\u001b[0m \u001b[0;34m=\u001b[0m \u001b[0mself\u001b[0m\u001b[0;34m.\u001b[0m\u001b[0mdataset\u001b[0m\u001b[0;34m[\u001b[0m\u001b[0mpossibly_batched_index\u001b[0m\u001b[0;34m]\u001b[0m\u001b[0;34m\u001b[0m\u001b[0;34m\u001b[0m\u001b[0m\n",
            "\u001b[0;32m/usr/local/lib/python3.6/dist-packages/torchvision/datasets/mnist.py\u001b[0m in \u001b[0;36m__getitem__\u001b[0;34m(self, index)\u001b[0m\n\u001b[1;32m     93\u001b[0m \u001b[0;34m\u001b[0m\u001b[0m\n\u001b[1;32m     94\u001b[0m         \u001b[0;32mif\u001b[0m \u001b[0mself\u001b[0m\u001b[0;34m.\u001b[0m\u001b[0mtransform\u001b[0m \u001b[0;32mis\u001b[0m \u001b[0;32mnot\u001b[0m \u001b[0;32mNone\u001b[0m\u001b[0;34m:\u001b[0m\u001b[0;34m\u001b[0m\u001b[0;34m\u001b[0m\u001b[0m\n\u001b[0;32m---> 95\u001b[0;31m             \u001b[0mimg\u001b[0m \u001b[0;34m=\u001b[0m \u001b[0mself\u001b[0m\u001b[0;34m.\u001b[0m\u001b[0mtransform\u001b[0m\u001b[0;34m(\u001b[0m\u001b[0mimg\u001b[0m\u001b[0;34m)\u001b[0m\u001b[0;34m\u001b[0m\u001b[0;34m\u001b[0m\u001b[0m\n\u001b[0m\u001b[1;32m     96\u001b[0m \u001b[0;34m\u001b[0m\u001b[0m\n\u001b[1;32m     97\u001b[0m         \u001b[0;32mif\u001b[0m \u001b[0mself\u001b[0m\u001b[0;34m.\u001b[0m\u001b[0mtarget_transform\u001b[0m \u001b[0;32mis\u001b[0m \u001b[0;32mnot\u001b[0m \u001b[0;32mNone\u001b[0m\u001b[0;34m:\u001b[0m\u001b[0;34m\u001b[0m\u001b[0;34m\u001b[0m\u001b[0m\n",
            "\u001b[0;32m/usr/local/lib/python3.6/dist-packages/torchvision/transforms/transforms.py\u001b[0m in \u001b[0;36m__call__\u001b[0;34m(self, img)\u001b[0m\n\u001b[1;32m     59\u001b[0m     \u001b[0;32mdef\u001b[0m \u001b[0m__call__\u001b[0m\u001b[0;34m(\u001b[0m\u001b[0mself\u001b[0m\u001b[0;34m,\u001b[0m \u001b[0mimg\u001b[0m\u001b[0;34m)\u001b[0m\u001b[0;34m:\u001b[0m\u001b[0;34m\u001b[0m\u001b[0;34m\u001b[0m\u001b[0m\n\u001b[1;32m     60\u001b[0m         \u001b[0;32mfor\u001b[0m \u001b[0mt\u001b[0m \u001b[0;32min\u001b[0m \u001b[0mself\u001b[0m\u001b[0;34m.\u001b[0m\u001b[0mtransforms\u001b[0m\u001b[0;34m:\u001b[0m\u001b[0;34m\u001b[0m\u001b[0;34m\u001b[0m\u001b[0m\n\u001b[0;32m---> 61\u001b[0;31m             \u001b[0mimg\u001b[0m \u001b[0;34m=\u001b[0m \u001b[0mt\u001b[0m\u001b[0;34m(\u001b[0m\u001b[0mimg\u001b[0m\u001b[0;34m)\u001b[0m\u001b[0;34m\u001b[0m\u001b[0;34m\u001b[0m\u001b[0m\n\u001b[0m\u001b[1;32m     62\u001b[0m         \u001b[0;32mreturn\u001b[0m \u001b[0mimg\u001b[0m\u001b[0;34m\u001b[0m\u001b[0;34m\u001b[0m\u001b[0m\n\u001b[1;32m     63\u001b[0m \u001b[0;34m\u001b[0m\u001b[0m\n",
            "\u001b[0;32m/usr/local/lib/python3.6/dist-packages/torchvision/transforms/transforms.py\u001b[0m in \u001b[0;36m__call__\u001b[0;34m(self, tensor)\u001b[0m\n\u001b[1;32m    164\u001b[0m             \u001b[0mTensor\u001b[0m\u001b[0;34m:\u001b[0m \u001b[0mNormalized\u001b[0m \u001b[0mTensor\u001b[0m \u001b[0mimage\u001b[0m\u001b[0;34m.\u001b[0m\u001b[0;34m\u001b[0m\u001b[0;34m\u001b[0m\u001b[0m\n\u001b[1;32m    165\u001b[0m         \"\"\"\n\u001b[0;32m--> 166\u001b[0;31m         \u001b[0;32mreturn\u001b[0m \u001b[0mF\u001b[0m\u001b[0;34m.\u001b[0m\u001b[0mnormalize\u001b[0m\u001b[0;34m(\u001b[0m\u001b[0mtensor\u001b[0m\u001b[0;34m,\u001b[0m \u001b[0mself\u001b[0m\u001b[0;34m.\u001b[0m\u001b[0mmean\u001b[0m\u001b[0;34m,\u001b[0m \u001b[0mself\u001b[0m\u001b[0;34m.\u001b[0m\u001b[0mstd\u001b[0m\u001b[0;34m,\u001b[0m \u001b[0mself\u001b[0m\u001b[0;34m.\u001b[0m\u001b[0minplace\u001b[0m\u001b[0;34m)\u001b[0m\u001b[0;34m\u001b[0m\u001b[0;34m\u001b[0m\u001b[0m\n\u001b[0m\u001b[1;32m    167\u001b[0m \u001b[0;34m\u001b[0m\u001b[0m\n\u001b[1;32m    168\u001b[0m     \u001b[0;32mdef\u001b[0m \u001b[0m__repr__\u001b[0m\u001b[0;34m(\u001b[0m\u001b[0mself\u001b[0m\u001b[0;34m)\u001b[0m\u001b[0;34m:\u001b[0m\u001b[0;34m\u001b[0m\u001b[0;34m\u001b[0m\u001b[0m\n",
            "\u001b[0;32m/usr/local/lib/python3.6/dist-packages/torchvision/transforms/functional.py\u001b[0m in \u001b[0;36mnormalize\u001b[0;34m(tensor, mean, std, inplace)\u001b[0m\n\u001b[1;32m    210\u001b[0m \u001b[0;34m\u001b[0m\u001b[0m\n\u001b[1;32m    211\u001b[0m     \u001b[0;32mif\u001b[0m \u001b[0;32mnot\u001b[0m \u001b[0minplace\u001b[0m\u001b[0;34m:\u001b[0m\u001b[0;34m\u001b[0m\u001b[0;34m\u001b[0m\u001b[0m\n\u001b[0;32m--> 212\u001b[0;31m         \u001b[0mtensor\u001b[0m \u001b[0;34m=\u001b[0m \u001b[0mtensor\u001b[0m\u001b[0;34m.\u001b[0m\u001b[0mclone\u001b[0m\u001b[0;34m(\u001b[0m\u001b[0;34m)\u001b[0m\u001b[0;34m\u001b[0m\u001b[0;34m\u001b[0m\u001b[0m\n\u001b[0m\u001b[1;32m    213\u001b[0m \u001b[0;34m\u001b[0m\u001b[0m\n\u001b[1;32m    214\u001b[0m     \u001b[0mdtype\u001b[0m \u001b[0;34m=\u001b[0m \u001b[0mtensor\u001b[0m\u001b[0;34m.\u001b[0m\u001b[0mdtype\u001b[0m\u001b[0;34m\u001b[0m\u001b[0;34m\u001b[0m\u001b[0m\n",
            "\u001b[0;31mKeyboardInterrupt\u001b[0m: "
          ]
        }
      ]
    },
    {
      "cell_type": "code",
      "metadata": {
        "id": "NJcJ6f6BNMA0",
        "colab_type": "code",
        "colab": {}
      },
      "source": [
        "result_dir + '/DCGAN_generation_animation.gif'"
      ],
      "execution_count": 0,
      "outputs": []
    },
    {
      "cell_type": "markdown",
      "metadata": {
        "colab_type": "text",
        "id": "RMuF_7ecVAJB"
      },
      "source": [
        "### Display the animated generation GIF\n",
        "\n",
        "% **TODO: edit path to GIF** %\n",
        "\n",
        "<img src='full_path_to_gif.gif' width=\"512\">"
      ]
    },
    {
      "cell_type": "markdown",
      "metadata": {
        "colab_type": "text",
        "id": "lwtFxH0-VAJB"
      },
      "source": [
        "### 6) Explore the latent space of the generator (5 points)\n",
        "We now want to **explore the expressiveness** of the Generator. Intuitively, a small change in values of the latent vector $z$ should result in a small change in the output image, and a linear interpolation between two latent vectors $z_1$ and $z_2$ should yield a reasonably smooth transition from one valid output image to another. Implement a function that creates a grid of latent vectors, where each row is an interpolation from the leftmost to the rightmost latent vector, with $n$ interpolation steps.\n",
        "\n",
        "The expected output of this function should look like this (or better): \n",
        "\n",
        "\n",
        "<img src=\"img/latent_space_morph_MNIST.png\" width=\"900\">\n",
        "<img src=\"img/latent_space_morph_fashionMNIST.png\" width=\"900\">"
      ]
    },
    {
      "cell_type": "code",
      "metadata": {
        "colab_type": "code",
        "id": "KYdpBzMkVAJC",
        "outputId": "2f2c588b-6940-4923-b3f9-2f3f59b5dc5d",
        "colab": {
          "base_uri": "https://localhost:8080/",
          "height": 677
        }
      },
      "source": [
        "def generate_latent_interpolation(rows=5, interp_steps=10):\n",
        "     with torch.no_grad():\n",
        "        #######################################################################################################\n",
        "        # TODO 6: for each row, create interpolation between leftmost and rightmost output image\n",
        "        #######################################################################################################\n",
        "        \n",
        "        for r in range(rows):\n",
        "          p1,p2 =  torch.randn(1, 100, 1, 1), torch.randn(1, 100, 1, 1)\n",
        "          interpolation = [np.array((1.0 - r) * p1 + r * p2) for r in np.linspace(0, 1, num=interp_steps)]\n",
        "          interpolation = torch.FloatTensor(interpolation).view(10,100,1,1).to(device)\n",
        "          X = G(interpolation).cpu()\n",
        "          grid_images = (X + 1) / 2.0\n",
        "          \n",
        "          fig, ax = plt.subplots(figsize=(20, 10))\n",
        "          grid = utils.make_grid(grid_images, interp_steps)\n",
        "          plt.imshow(np.transpose(grid, (1, 2, 0)))\n",
        "          ax.axis('off')\n",
        "\n",
        "generate_latent_interpolation()        "
      ],
      "execution_count": 0,
      "outputs": [
        {
          "output_type": "display_data",
          "data": {
            "image/png": "[encoded data removed]",
            "text/plain": [
              "<Figure size 1440x720 with 1 Axes>"
            ]
          },
          "metadata": {
            "tags": []
          }
        },
        {
          "output_type": "display_data",
          "data": {
            "image/png": "[encoded data removed]",
            "text/plain": [
              "<Figure size 1440x720 with 1 Axes>"
            ]
          },
          "metadata": {
            "tags": []
          }
        },
        {
          "output_type": "display_data",
          "data": {
            "image/png": "[encoded data removed]",
            "text/plain": [
              "<Figure size 1440x720 with 1 Axes>"
            ]
          },
          "metadata": {
            "tags": []
          }
        },
        {
          "output_type": "display_data",
          "data": {
            "image/png": "[encoded data removed]",
            "text/plain": [
              "<Figure size 1440x720 with 1 Axes>"
            ]
          },
          "metadata": {
            "tags": []
          }
        },
        {
          "output_type": "display_data",
          "data": {
            "image/png": "[encoded data removed]",
            "text/plain": [
              "<Figure size 1440x720 with 1 Axes>"
            ]
          },
          "metadata": {
            "tags": []
          }
        }
      ]
    },
    {
      "cell_type": "code",
      "metadata": {
        "colab_type": "code",
        "id": "dhZ_vj_D7Cwx",
        "colab": {}
      },
      "source": [
        ""
      ],
      "execution_count": 0,
      "outputs": []
    },
    {
      "cell_type": "markdown",
      "metadata": {
        "colab_type": "text",
        "id": "i2-GGqaaVAJC"
      },
      "source": [
        "### 7) Modify the network to output $64\\times64$ RGB images (10 points)\n",
        "\n",
        "Download `UTK_face.tar.gz` from [Google Drive](https://drive.google.com/drive/folders/0BxYys69jI14kU0I1YUQyY1ZDRUE) and extract the images to your working directory in the folder `./data/UTKFace/train`. This dataset [4] contains approximately 24K cropped images of human faces of mixed age, gender and race.\n",
        "\n",
        "Load these images and resize them to the dimensions you want to generate ($64\\times64$ RGB images). Replicate and modify your Generator and Discriminator network architectures in order to output the appropriate image size and three color channels. You may want to consult the [original DCGAN paper](https://arxiv.org/abs/1511.06434) to check what their suggested architecture looks like. You should generate an output similar to this (or better):\n",
        "\n",
        "<img src=\"img/DCGAN_faces.png\" width=\"900\">\n",
        "\n",
        "\n",
        "\n",
        "You can either modify the code above, or copy the necessary code pieces, but **make sure you include all results** of different datasets in your final report or in this notebook."
      ]
    },
    {
      "cell_type": "code",
      "metadata": {
        "id": "C6wscPjkSzkH",
        "colab_type": "code",
        "outputId": "98c877f5-041e-459e-f767-e96cc1207495",
        "colab": {
          "base_uri": "https://localhost:8080/",
          "height": 189
        }
      },
      "source": [
        "#from google.colab import drive\n",
        "#drive.mount('/content/drive')"
      ],
      "execution_count": 0,
      "outputs": [
        {
          "output_type": "stream",
          "text": [
            "Go to this URL in a browser: https://accounts.google.com/o/oauth2/auth?client_id=947318989803-6bn6qk8qdgf4n4g3pfee6491hc0brc4i.apps.googleusercontent.com&redirect_uri=urn%3Aietf%3Awg%3Aoauth%3A2.0%3Aoob&scope=email%20https%3A%2F%2Fwww.googleapis.com%2Fauth%2Fdocs.test%20https%3A%2F%2Fwww.googleapis.com%2Fauth%2Fdrive%20https%3A%2F%2Fwww.googleapis.com%2Fauth%2Fdrive.photos.readonly%20https%3A%2F%2Fwww.googleapis.com%2Fauth%2Fpeopleapi.readonly&response_type=code\n",
            "\n",
            "Enter your authorization code:\n",
            "··········\n",
            "Mounted at /content/drive\n"
          ],
          "name": "stdout"
        }
      ]
    },
    {
      "cell_type": "code",
      "metadata": {
        "colab_type": "code",
        "id": "OZ19gtC7VAJD",
        "outputId": "46a41157-1239-40bb-8d88-61f8360cd780",
        "colab": {
          "base_uri": "https://localhost:8080/",
          "height": 68
        }
      },
      "source": [
        "#######################################################################################################\n",
        "# TODO 7: resize the images such that they have the shape of 3x64x64\n",
        "#######################################################################################################\n",
        "\n",
        "train_dataset = torchvision.datasets.ImageFolder(\n",
        "    root='./data/UTKFace'\n",
        "    , transform=transforms.Compose([\n",
        "                           transforms.Resize((64,64), interpolation=2),\n",
        "                           transforms.ToTensor(),\n",
        "                           transforms.Normalize((0.5,), (0.5,))\n",
        "                           \n",
        "    ])\n",
        ")\n",
        "print(\"Dataset length: \", len(train_dataset))\n",
        "print(\"Image size: {}\".format(train_dataset[0][0].size()))\n",
        "print(\"value range: [ {} - {} ]\".format(torch.min(train_dataset[0][0]), torch.max(train_dataset[0][0])))"
      ],
      "execution_count": 0,
      "outputs": [
        {
          "output_type": "stream",
          "text": [
            "Dataset length:  11169\n",
            "Image size: torch.Size([3, 64, 64])\n",
            "value range: [ -0.9921568632125854 - 0.9607843160629272 ]\n"
          ],
          "name": "stdout"
        }
      ]
    },
    {
      "cell_type": "code",
      "metadata": {
        "colab_type": "code",
        "id": "lsQuEmk7jsP9",
        "outputId": "7a160904-d994-4428-a9da-9e7eff51e7df",
        "colab": {
          "base_uri": "https://localhost:8080/",
          "height": 323
        }
      },
      "source": [
        "#######################################################################################################\n",
        "# TODO 3b: implement the generator network for a DCGAN with output size 64x64px\n",
        "#######################################################################################################\n",
        "#######################################################################################################\n",
        "# TODO 3b: implement the generator network for a DCGAN with output size 32x32px\n",
        "#######################################################################################################\n",
        "class Generator(nn.Module):\n",
        "    def __init__(self):\n",
        "        super(Generator, self).__init__()\n",
        "        self.network = nn.Sequential(\n",
        "            nn.ConvTranspose2d(100, 512, 4),\n",
        "            nn.BatchNorm2d(512),\n",
        "            nn.ReLU(),\n",
        "\n",
        "            nn.ConvTranspose2d(512, 256, 4, 2, 1),\n",
        "            nn.BatchNorm2d(256),\n",
        "            nn.ReLU(),\n",
        "\n",
        "            nn.ConvTranspose2d(256, 128, 4, 2, 1),\n",
        "            nn.BatchNorm2d(128),\n",
        "            nn.ReLU(),\n",
        "\n",
        "            nn.ConvTranspose2d(128, 64, 4, 2, 1),\n",
        "            nn.BatchNorm2d(64),\n",
        "            nn.ReLU(),\n",
        "\n",
        "\n",
        "            nn.ConvTranspose2d(64, 3, 4, 2, 1),\n",
        "            nn.Tanh()\n",
        "        )\n",
        "    # forward method\n",
        "    def forward(self, input):\n",
        "        return self.network(input)\n",
        "    \n",
        "    # weight_init\n",
        "    def weight_init(self, mean, std):\n",
        "        self.network.apply(normal_init)\n",
        "Generator()"
      ],
      "execution_count": 0,
      "outputs": [
        {
          "output_type": "execute_result",
          "data": {
            "text/plain": [
              "Generator(\n",
              "  (network): Sequential(\n",
              "    (0): ConvTranspose2d(100, 512, kernel_size=(4, 4), stride=(1, 1))\n",
              "    (1): BatchNorm2d(512, eps=1e-05, momentum=0.1, affine=True, track_running_stats=True)\n",
              "    (2): ReLU()\n",
              "    (3): ConvTranspose2d(512, 256, kernel_size=(4, 4), stride=(2, 2), padding=(1, 1))\n",
              "    (4): BatchNorm2d(256, eps=1e-05, momentum=0.1, affine=True, track_running_stats=True)\n",
              "    (5): ReLU()\n",
              "    (6): ConvTranspose2d(256, 128, kernel_size=(4, 4), stride=(2, 2), padding=(1, 1))\n",
              "    (7): BatchNorm2d(128, eps=1e-05, momentum=0.1, affine=True, track_running_stats=True)\n",
              "    (8): ReLU()\n",
              "    (9): ConvTranspose2d(128, 64, kernel_size=(4, 4), stride=(2, 2), padding=(1, 1))\n",
              "    (10): BatchNorm2d(64, eps=1e-05, momentum=0.1, affine=True, track_running_stats=True)\n",
              "    (11): ReLU()\n",
              "    (12): ConvTranspose2d(64, 3, kernel_size=(4, 4), stride=(2, 2), padding=(1, 1))\n",
              "    (13): Tanh()\n",
              "  )\n",
              ")"
            ]
          },
          "metadata": {
            "tags": []
          },
          "execution_count": 74
        }
      ]
    },
    {
      "cell_type": "code",
      "metadata": {
        "colab_type": "code",
        "id": "MhcraZnskBy6",
        "outputId": "8238c7c5-89eb-41d3-9df3-8e92511c9980",
        "colab": {
          "base_uri": "https://localhost:8080/",
          "height": 323
        }
      },
      "source": [
        "#######################################################################################################\n",
        "# TODO 3c: implement the discriminator network for a DCGAN with input size 64x64px\n",
        "#######################################################################################################\n",
        "class Discriminator(nn.Module):\n",
        "    def __init__(self):\n",
        "        super(Discriminator, self).__init__()\n",
        "        self.network = nn.Sequential(\n",
        "            nn.Conv2d(3, 64, 4, 2, 1),\n",
        "            nn.BatchNorm2d(64),\n",
        "            nn.LeakyReLU(0.2),\n",
        "\n",
        "            nn.Conv2d(64, 128, 4, 2, 1),\n",
        "            nn.BatchNorm2d(128),\n",
        "            nn.LeakyReLU(0.2),\n",
        "\n",
        "            nn.Conv2d(128, 256, 4, 2, 1),\n",
        "            nn.BatchNorm2d(256),\n",
        "            nn.LeakyReLU(0.2),\n",
        "\n",
        "            nn.Conv2d(256, 512, 4, 2, 1),\n",
        "            nn.BatchNorm2d(512),\n",
        "            nn.LeakyReLU(0.2),\n",
        "\n",
        "            nn.Conv2d(512, 1, 4),\n",
        "            nn.Sigmoid()\n",
        "        )\n",
        "    # forward method\n",
        "    def forward(self, input):\n",
        "        return self.network(input)\n",
        "    \n",
        "    # weight_init\n",
        "    def weight_init(self, mean, std):\n",
        "      self.network.apply(normal_init)\n",
        "Discriminator()\n",
        "        "
      ],
      "execution_count": 0,
      "outputs": [
        {
          "output_type": "execute_result",
          "data": {
            "text/plain": [
              "Discriminator(\n",
              "  (network): Sequential(\n",
              "    (0): Conv2d(3, 64, kernel_size=(4, 4), stride=(2, 2), padding=(1, 1))\n",
              "    (1): BatchNorm2d(64, eps=1e-05, momentum=0.1, affine=True, track_running_stats=True)\n",
              "    (2): LeakyReLU(negative_slope=0.2)\n",
              "    (3): Conv2d(64, 128, kernel_size=(4, 4), stride=(2, 2), padding=(1, 1))\n",
              "    (4): BatchNorm2d(128, eps=1e-05, momentum=0.1, affine=True, track_running_stats=True)\n",
              "    (5): LeakyReLU(negative_slope=0.2)\n",
              "    (6): Conv2d(128, 256, kernel_size=(4, 4), stride=(2, 2), padding=(1, 1))\n",
              "    (7): BatchNorm2d(256, eps=1e-05, momentum=0.1, affine=True, track_running_stats=True)\n",
              "    (8): LeakyReLU(negative_slope=0.2)\n",
              "    (9): Conv2d(256, 512, kernel_size=(4, 4), stride=(2, 2), padding=(1, 1))\n",
              "    (10): BatchNorm2d(512, eps=1e-05, momentum=0.1, affine=True, track_running_stats=True)\n",
              "    (11): LeakyReLU(negative_slope=0.2)\n",
              "    (12): Conv2d(512, 1, kernel_size=(4, 4), stride=(1, 1))\n",
              "    (13): Sigmoid()\n",
              "  )\n",
              ")"
            ]
          },
          "metadata": {
            "tags": []
          },
          "execution_count": 75
        }
      ]
    },
    {
      "cell_type": "code",
      "metadata": {
        "colab_type": "code",
        "id": "Av-taZ_jVAJD",
        "outputId": "ca5085ce-4af7-4414-b791-7dab331b3699",
        "colab": {
          "base_uri": "https://localhost:8080/",
          "height": 392
        }
      },
      "source": [
        "#######################################################################################################\n",
        "# TODO 7: train a DCGAN on the face images\n",
        "#######################################################################################################\n",
        "\n",
        "data_loader = torch.utils.data.DataLoader(train_dataset, batch_size=batch_size, shuffle=True)\n",
        "\n",
        "dset_name = 'UTKFace' #pick a meaningful name\n",
        "result_dir = '{}_DCGAN'.format(dset_name)\n",
        "\n",
        "\n",
        "\n",
        "#######################################################################################################\n",
        "# TODO 5a: Fill code for training setup\n",
        "#######################################################################################################\n",
        "\n",
        "# define networks\n",
        "G = Generator().to(device)\n",
        "D = Discriminator().to(device)\n",
        "# define optimizers\n",
        "G_optimizer = optim.Adam(G.parameters(), lr=lr, betas=(0.5, 0.999))\n",
        "D_optimizer = optim.Adam(D.parameters(), lr=lr, betas=(0.5, 0.999))\n",
        "\n",
        "# calculate the losses for each of these steps using Binary Cross Entropy loss.\n",
        "loss = nn.BCELoss()\n",
        "num_epochs = 30\n",
        "\n",
        "# results save folder\n",
        "if not os.path.isdir(result_dir):\n",
        "    os.mkdir(result_dir)\n",
        "if not os.path.isdir(result_dir+'/Random'):\n",
        "    os.mkdir(result_dir+'/Random')\n",
        "if not os.path.isdir(result_dir+'/Fixed'):\n",
        "    os.mkdir(result_dir+'/Fixed')\n",
        "\n",
        "progress = {}\n",
        "progress['D_losses'] = []\n",
        "progress['G_losses'] = []\n",
        "progress['per_epoch_times'] = []\n",
        "progress['total_time'] = []\n",
        "num_iter = 0\n",
        "\n",
        "# start training loop\n",
        "print('Training ...')\n",
        "start_time = time.time()\n",
        "for epoch in range(num_epochs):\n",
        "    \n",
        "    D_losses = []\n",
        "    G_losses = []\n",
        "    \n",
        "    epoch_start_time = time.time()\n",
        "    for real, _ in data_loader:\n",
        "        real = real.to(device)\n",
        "        batch_size = real.size(0)\n",
        "\n",
        "        #######################################################################################################\n",
        "        # TODO 5b: Fill code for training loop\n",
        "        #######################################################################################################\n",
        "        \n",
        "        # generate random latent vector z and real and fake labels \n",
        "        z =  torch.randn(batch_size, 100, 1, 1).to(device)\n",
        "        fake_labels = torch.zeros(batch_size).to(device)\n",
        "        real_labels = torch.ones(batch_size).to(device)\n",
        "\n",
        "        # generate fakes  \n",
        "        fakes = G(z)\n",
        "        #print(fakes.size())\n",
        "        # evaluate fakes\n",
        "        fake_pred = D(fakes).view(-1)\n",
        "        #print(fake_pred.size())\n",
        "        fake_loss = loss(fake_pred, fake_labels)\n",
        "\n",
        "        # evaluate real minibatch\n",
        "        real_pred = D(real).view(-1)\n",
        "        #print(real_pred.size())\n",
        "        real_loss = loss(real_pred, real_labels)\n",
        "\n",
        "        # accumulate discriminator loss from the information about the real and fake images it just saw\n",
        "        D_train_loss = fake_loss + real_loss\n",
        "\n",
        "        # train discriminator D step\n",
        "        D.zero_grad()\n",
        "        D_train_loss.backward()\n",
        "        D_optimizer.step()    \n",
        "        \n",
        "        # train generator to output an image that is classified as real   \n",
        "        fakes = G(z)\n",
        "        # evaluate fakes\n",
        "        fake_pred = D(fakes).view(-1)\n",
        "        G_train_loss = loss(fake_pred, real_labels)  \n",
        "        \n",
        "        # train generator G step\n",
        "        G.zero_grad()\n",
        "        G_train_loss.backward()\n",
        "        G_optimizer.step()              \n",
        "\n",
        "\n",
        "        D_losses.append(D_train_loss.data.item())\n",
        "        G_losses.append(G_train_loss.data.item())\n",
        "\n",
        "        num_iter += 1\n",
        "\n",
        "    epoch_end_time = time.time()\n",
        "    per_epoch_time = epoch_end_time - epoch_start_time\n",
        "    \n",
        "    print('Epoch [{} / {}] G loss: {} D loss: {}'.format(epoch + 1, num_epochs, G_train_loss, D_train_loss))\n",
        "\n",
        "    show_result( epoch, save=True, path=result_dir + '/Random/{}_DCGAN_{}.png'.format(dset_name, epoch), useFixed=False )\n",
        "    show_result( epoch, save=True, show=True, path=result_dir + '/Fixed/{}_DCGAN_{}.png'.format(dset_name, epoch), useFixed=True )\n",
        "    progress['D_losses'].append(torch.mean(torch.FloatTensor(D_losses)))\n",
        "    progress['G_losses'].append(torch.mean(torch.FloatTensor(G_losses)))\n",
        "    progress['per_epoch_times'].append(per_epoch_time)\n",
        "\n",
        "end_time = time.time()\n",
        "total_time = end_time - start_time\n",
        "progress['total_time'].append(total_time)\n",
        "\n",
        "print('Avg per epoch time: {:.2f} sec, total {:d} epochs time: {:.2f} min'.format(torch.mean(torch.FloatTensor(progress['per_epoch_times'])), num_epochs, total_time / 60))\n",
        "print('Training finished!')\n",
        "print('...saving training results')\n",
        "\n",
        "torch.save(G.state_dict(), result_dir + '/generator_network.pkl')\n",
        "torch.save(D.state_dict(), result_dir + '/discriminator_network.pkl')\n",
        "with open(result_dir + '/progress.pkl', 'wb') as f:\n",
        "    pickle.dump(progress, f)\n",
        "\n",
        "# plot the loss curves    \n",
        "plot_losses(progress, save=True, path=result_dir + '/{}_DCGAN_progress.png'.format(dset_name))\n",
        "\n",
        "# Visualize the training progress as an animated GIF\n",
        "images = []\n",
        "for e in range(num_epochs):\n",
        "    img_name = result_dir + '/Fixed/{}_DCGAN_{}.png'.format(dset_name, e)\n",
        "    images.append(imageio.imread(img_name))\n",
        "imageio.mimsave(result_dir + '/DCGAN_generation_animation.gif', images, fps=5)\n",
        "\n"
      ],
      "execution_count": 0,
      "outputs": [
        {
          "output_type": "stream",
          "text": [
            "Training ...\n"
          ],
          "name": "stdout"
        },
        {
          "output_type": "error",
          "ename": "KeyboardInterrupt",
          "evalue": "ignored",
          "traceback": [
            "\u001b[0;31m---------------------------------------------------------------------------\u001b[0m",
            "\u001b[0;31mKeyboardInterrupt\u001b[0m                         Traceback (most recent call last)",
            "\u001b[0;32m<ipython-input-76-32f9649c893a>\u001b[0m in \u001b[0;36m<module>\u001b[0;34m()\u001b[0m\n\u001b[1;32m     46\u001b[0m \u001b[0;34m\u001b[0m\u001b[0m\n\u001b[1;32m     47\u001b[0m     \u001b[0mepoch_start_time\u001b[0m \u001b[0;34m=\u001b[0m \u001b[0mtime\u001b[0m\u001b[0;34m.\u001b[0m\u001b[0mtime\u001b[0m\u001b[0;34m(\u001b[0m\u001b[0;34m)\u001b[0m\u001b[0;34m\u001b[0m\u001b[0;34m\u001b[0m\u001b[0m\n\u001b[0;32m---> 48\u001b[0;31m     \u001b[0;32mfor\u001b[0m \u001b[0mreal\u001b[0m\u001b[0;34m,\u001b[0m \u001b[0m_\u001b[0m \u001b[0;32min\u001b[0m \u001b[0mdata_loader\u001b[0m\u001b[0;34m:\u001b[0m\u001b[0;34m\u001b[0m\u001b[0;34m\u001b[0m\u001b[0m\n\u001b[0m\u001b[1;32m     49\u001b[0m         \u001b[0mreal\u001b[0m \u001b[0;34m=\u001b[0m \u001b[0mreal\u001b[0m\u001b[0;34m.\u001b[0m\u001b[0mto\u001b[0m\u001b[0;34m(\u001b[0m\u001b[0mdevice\u001b[0m\u001b[0;34m)\u001b[0m\u001b[0;34m\u001b[0m\u001b[0;34m\u001b[0m\u001b[0m\n\u001b[1;32m     50\u001b[0m         \u001b[0mbatch_size\u001b[0m \u001b[0;34m=\u001b[0m \u001b[0mreal\u001b[0m\u001b[0;34m.\u001b[0m\u001b[0msize\u001b[0m\u001b[0;34m(\u001b[0m\u001b[0;36m0\u001b[0m\u001b[0;34m)\u001b[0m\u001b[0;34m\u001b[0m\u001b[0;34m\u001b[0m\u001b[0m\n",
            "\u001b[0;32m/usr/local/lib/python3.6/dist-packages/torch/utils/data/dataloader.py\u001b[0m in \u001b[0;36m__next__\u001b[0;34m(self)\u001b[0m\n\u001b[1;32m    344\u001b[0m     \u001b[0;32mdef\u001b[0m \u001b[0m__next__\u001b[0m\u001b[0;34m(\u001b[0m\u001b[0mself\u001b[0m\u001b[0;34m)\u001b[0m\u001b[0;34m:\u001b[0m\u001b[0;34m\u001b[0m\u001b[0;34m\u001b[0m\u001b[0m\n\u001b[1;32m    345\u001b[0m         \u001b[0mindex\u001b[0m \u001b[0;34m=\u001b[0m \u001b[0mself\u001b[0m\u001b[0;34m.\u001b[0m\u001b[0m_next_index\u001b[0m\u001b[0;34m(\u001b[0m\u001b[0;34m)\u001b[0m  \u001b[0;31m# may raise StopIteration\u001b[0m\u001b[0;34m\u001b[0m\u001b[0;34m\u001b[0m\u001b[0m\n\u001b[0;32m--> 346\u001b[0;31m         \u001b[0mdata\u001b[0m \u001b[0;34m=\u001b[0m \u001b[0mself\u001b[0m\u001b[0;34m.\u001b[0m\u001b[0m_dataset_fetcher\u001b[0m\u001b[0;34m.\u001b[0m\u001b[0mfetch\u001b[0m\u001b[0;34m(\u001b[0m\u001b[0mindex\u001b[0m\u001b[0;34m)\u001b[0m  \u001b[0;31m# may raise StopIteration\u001b[0m\u001b[0;34m\u001b[0m\u001b[0;34m\u001b[0m\u001b[0m\n\u001b[0m\u001b[1;32m    347\u001b[0m         \u001b[0;32mif\u001b[0m \u001b[0mself\u001b[0m\u001b[0;34m.\u001b[0m\u001b[0m_pin_memory\u001b[0m\u001b[0;34m:\u001b[0m\u001b[0;34m\u001b[0m\u001b[0;34m\u001b[0m\u001b[0m\n\u001b[1;32m    348\u001b[0m             \u001b[0mdata\u001b[0m \u001b[0;34m=\u001b[0m \u001b[0m_utils\u001b[0m\u001b[0;34m.\u001b[0m\u001b[0mpin_memory\u001b[0m\u001b[0;34m.\u001b[0m\u001b[0mpin_memory\u001b[0m\u001b[0;34m(\u001b[0m\u001b[0mdata\u001b[0m\u001b[0;34m)\u001b[0m\u001b[0;34m\u001b[0m\u001b[0;34m\u001b[0m\u001b[0m\n",
            "\u001b[0;32m/usr/local/lib/python3.6/dist-packages/torch/utils/data/_utils/fetch.py\u001b[0m in \u001b[0;36mfetch\u001b[0;34m(self, possibly_batched_index)\u001b[0m\n\u001b[1;32m     42\u001b[0m     \u001b[0;32mdef\u001b[0m \u001b[0mfetch\u001b[0m\u001b[0;34m(\u001b[0m\u001b[0mself\u001b[0m\u001b[0;34m,\u001b[0m \u001b[0mpossibly_batched_index\u001b[0m\u001b[0;34m)\u001b[0m\u001b[0;34m:\u001b[0m\u001b[0;34m\u001b[0m\u001b[0;34m\u001b[0m\u001b[0m\n\u001b[1;32m     43\u001b[0m         \u001b[0;32mif\u001b[0m \u001b[0mself\u001b[0m\u001b[0;34m.\u001b[0m\u001b[0mauto_collation\u001b[0m\u001b[0;34m:\u001b[0m\u001b[0;34m\u001b[0m\u001b[0;34m\u001b[0m\u001b[0m\n\u001b[0;32m---> 44\u001b[0;31m             \u001b[0mdata\u001b[0m \u001b[0;34m=\u001b[0m \u001b[0;34m[\u001b[0m\u001b[0mself\u001b[0m\u001b[0;34m.\u001b[0m\u001b[0mdataset\u001b[0m\u001b[0;34m[\u001b[0m\u001b[0midx\u001b[0m\u001b[0;34m]\u001b[0m \u001b[0;32mfor\u001b[0m \u001b[0midx\u001b[0m \u001b[0;32min\u001b[0m \u001b[0mpossibly_batched_index\u001b[0m\u001b[0;34m]\u001b[0m\u001b[0;34m\u001b[0m\u001b[0;34m\u001b[0m\u001b[0m\n\u001b[0m\u001b[1;32m     45\u001b[0m         \u001b[0;32melse\u001b[0m\u001b[0;34m:\u001b[0m\u001b[0;34m\u001b[0m\u001b[0;34m\u001b[0m\u001b[0m\n\u001b[1;32m     46\u001b[0m             \u001b[0mdata\u001b[0m \u001b[0;34m=\u001b[0m \u001b[0mself\u001b[0m\u001b[0;34m.\u001b[0m\u001b[0mdataset\u001b[0m\u001b[0;34m[\u001b[0m\u001b[0mpossibly_batched_index\u001b[0m\u001b[0;34m]\u001b[0m\u001b[0;34m\u001b[0m\u001b[0;34m\u001b[0m\u001b[0m\n",
            "\u001b[0;32m/usr/local/lib/python3.6/dist-packages/torch/utils/data/_utils/fetch.py\u001b[0m in \u001b[0;36m<listcomp>\u001b[0;34m(.0)\u001b[0m\n\u001b[1;32m     42\u001b[0m     \u001b[0;32mdef\u001b[0m \u001b[0mfetch\u001b[0m\u001b[0;34m(\u001b[0m\u001b[0mself\u001b[0m\u001b[0;34m,\u001b[0m \u001b[0mpossibly_batched_index\u001b[0m\u001b[0;34m)\u001b[0m\u001b[0;34m:\u001b[0m\u001b[0;34m\u001b[0m\u001b[0;34m\u001b[0m\u001b[0m\n\u001b[1;32m     43\u001b[0m         \u001b[0;32mif\u001b[0m \u001b[0mself\u001b[0m\u001b[0;34m.\u001b[0m\u001b[0mauto_collation\u001b[0m\u001b[0;34m:\u001b[0m\u001b[0;34m\u001b[0m\u001b[0;34m\u001b[0m\u001b[0m\n\u001b[0;32m---> 44\u001b[0;31m             \u001b[0mdata\u001b[0m \u001b[0;34m=\u001b[0m \u001b[0;34m[\u001b[0m\u001b[0mself\u001b[0m\u001b[0;34m.\u001b[0m\u001b[0mdataset\u001b[0m\u001b[0;34m[\u001b[0m\u001b[0midx\u001b[0m\u001b[0;34m]\u001b[0m \u001b[0;32mfor\u001b[0m \u001b[0midx\u001b[0m \u001b[0;32min\u001b[0m \u001b[0mpossibly_batched_index\u001b[0m\u001b[0;34m]\u001b[0m\u001b[0;34m\u001b[0m\u001b[0;34m\u001b[0m\u001b[0m\n\u001b[0m\u001b[1;32m     45\u001b[0m         \u001b[0;32melse\u001b[0m\u001b[0;34m:\u001b[0m\u001b[0;34m\u001b[0m\u001b[0;34m\u001b[0m\u001b[0m\n\u001b[1;32m     46\u001b[0m             \u001b[0mdata\u001b[0m \u001b[0;34m=\u001b[0m \u001b[0mself\u001b[0m\u001b[0;34m.\u001b[0m\u001b[0mdataset\u001b[0m\u001b[0;34m[\u001b[0m\u001b[0mpossibly_batched_index\u001b[0m\u001b[0;34m]\u001b[0m\u001b[0;34m\u001b[0m\u001b[0;34m\u001b[0m\u001b[0m\n",
            "\u001b[0;32m/usr/local/lib/python3.6/dist-packages/torchvision/datasets/folder.py\u001b[0m in \u001b[0;36m__getitem__\u001b[0;34m(self, index)\u001b[0m\n\u001b[1;32m    136\u001b[0m         \"\"\"\n\u001b[1;32m    137\u001b[0m         \u001b[0mpath\u001b[0m\u001b[0;34m,\u001b[0m \u001b[0mtarget\u001b[0m \u001b[0;34m=\u001b[0m \u001b[0mself\u001b[0m\u001b[0;34m.\u001b[0m\u001b[0msamples\u001b[0m\u001b[0;34m[\u001b[0m\u001b[0mindex\u001b[0m\u001b[0;34m]\u001b[0m\u001b[0;34m\u001b[0m\u001b[0;34m\u001b[0m\u001b[0m\n\u001b[0;32m--> 138\u001b[0;31m         \u001b[0msample\u001b[0m \u001b[0;34m=\u001b[0m \u001b[0mself\u001b[0m\u001b[0;34m.\u001b[0m\u001b[0mloader\u001b[0m\u001b[0;34m(\u001b[0m\u001b[0mpath\u001b[0m\u001b[0;34m)\u001b[0m\u001b[0;34m\u001b[0m\u001b[0;34m\u001b[0m\u001b[0m\n\u001b[0m\u001b[1;32m    139\u001b[0m         \u001b[0;32mif\u001b[0m \u001b[0mself\u001b[0m\u001b[0;34m.\u001b[0m\u001b[0mtransform\u001b[0m \u001b[0;32mis\u001b[0m \u001b[0;32mnot\u001b[0m \u001b[0;32mNone\u001b[0m\u001b[0;34m:\u001b[0m\u001b[0;34m\u001b[0m\u001b[0;34m\u001b[0m\u001b[0m\n\u001b[1;32m    140\u001b[0m             \u001b[0msample\u001b[0m \u001b[0;34m=\u001b[0m \u001b[0mself\u001b[0m\u001b[0;34m.\u001b[0m\u001b[0mtransform\u001b[0m\u001b[0;34m(\u001b[0m\u001b[0msample\u001b[0m\u001b[0;34m)\u001b[0m\u001b[0;34m\u001b[0m\u001b[0;34m\u001b[0m\u001b[0m\n",
            "\u001b[0;32m/usr/local/lib/python3.6/dist-packages/torchvision/datasets/folder.py\u001b[0m in \u001b[0;36mdefault_loader\u001b[0;34m(path)\u001b[0m\n\u001b[1;32m    172\u001b[0m         \u001b[0;32mreturn\u001b[0m \u001b[0maccimage_loader\u001b[0m\u001b[0;34m(\u001b[0m\u001b[0mpath\u001b[0m\u001b[0;34m)\u001b[0m\u001b[0;34m\u001b[0m\u001b[0;34m\u001b[0m\u001b[0m\n\u001b[1;32m    173\u001b[0m     \u001b[0;32melse\u001b[0m\u001b[0;34m:\u001b[0m\u001b[0;34m\u001b[0m\u001b[0;34m\u001b[0m\u001b[0m\n\u001b[0;32m--> 174\u001b[0;31m         \u001b[0;32mreturn\u001b[0m \u001b[0mpil_loader\u001b[0m\u001b[0;34m(\u001b[0m\u001b[0mpath\u001b[0m\u001b[0;34m)\u001b[0m\u001b[0;34m\u001b[0m\u001b[0;34m\u001b[0m\u001b[0m\n\u001b[0m\u001b[1;32m    175\u001b[0m \u001b[0;34m\u001b[0m\u001b[0m\n\u001b[1;32m    176\u001b[0m \u001b[0;34m\u001b[0m\u001b[0m\n",
            "\u001b[0;32m/usr/local/lib/python3.6/dist-packages/torchvision/datasets/folder.py\u001b[0m in \u001b[0;36mpil_loader\u001b[0;34m(path)\u001b[0m\n\u001b[1;32m    154\u001b[0m     \u001b[0;31m# open path as file to avoid ResourceWarning (https://github.com/python-pillow/Pillow/issues/835)\u001b[0m\u001b[0;34m\u001b[0m\u001b[0;34m\u001b[0m\u001b[0;34m\u001b[0m\u001b[0m\n\u001b[1;32m    155\u001b[0m     \u001b[0;32mwith\u001b[0m \u001b[0mopen\u001b[0m\u001b[0;34m(\u001b[0m\u001b[0mpath\u001b[0m\u001b[0;34m,\u001b[0m \u001b[0;34m'rb'\u001b[0m\u001b[0;34m)\u001b[0m \u001b[0;32mas\u001b[0m \u001b[0mf\u001b[0m\u001b[0;34m:\u001b[0m\u001b[0;34m\u001b[0m\u001b[0;34m\u001b[0m\u001b[0m\n\u001b[0;32m--> 156\u001b[0;31m         \u001b[0mimg\u001b[0m \u001b[0;34m=\u001b[0m \u001b[0mImage\u001b[0m\u001b[0;34m.\u001b[0m\u001b[0mopen\u001b[0m\u001b[0;34m(\u001b[0m\u001b[0mf\u001b[0m\u001b[0;34m)\u001b[0m\u001b[0;34m\u001b[0m\u001b[0;34m\u001b[0m\u001b[0m\n\u001b[0m\u001b[1;32m    157\u001b[0m         \u001b[0;32mreturn\u001b[0m \u001b[0mimg\u001b[0m\u001b[0;34m.\u001b[0m\u001b[0mconvert\u001b[0m\u001b[0;34m(\u001b[0m\u001b[0;34m'RGB'\u001b[0m\u001b[0;34m)\u001b[0m\u001b[0;34m\u001b[0m\u001b[0;34m\u001b[0m\u001b[0m\n\u001b[1;32m    158\u001b[0m \u001b[0;34m\u001b[0m\u001b[0m\n",
            "\u001b[0;32m/usr/local/lib/python3.6/dist-packages/PIL/Image.py\u001b[0m in \u001b[0;36mopen\u001b[0;34m(fp, mode)\u001b[0m\n\u001b[1;32m   2537\u001b[0m         \u001b[0mexclusive_fp\u001b[0m \u001b[0;34m=\u001b[0m \u001b[0;32mTrue\u001b[0m\u001b[0;34m\u001b[0m\u001b[0;34m\u001b[0m\u001b[0m\n\u001b[1;32m   2538\u001b[0m \u001b[0;34m\u001b[0m\u001b[0m\n\u001b[0;32m-> 2539\u001b[0;31m     \u001b[0mprefix\u001b[0m \u001b[0;34m=\u001b[0m \u001b[0mfp\u001b[0m\u001b[0;34m.\u001b[0m\u001b[0mread\u001b[0m\u001b[0;34m(\u001b[0m\u001b[0;36m16\u001b[0m\u001b[0;34m)\u001b[0m\u001b[0;34m\u001b[0m\u001b[0;34m\u001b[0m\u001b[0m\n\u001b[0m\u001b[1;32m   2540\u001b[0m \u001b[0;34m\u001b[0m\u001b[0m\n\u001b[1;32m   2541\u001b[0m     \u001b[0mpreinit\u001b[0m\u001b[0;34m(\u001b[0m\u001b[0;34m)\u001b[0m\u001b[0;34m\u001b[0m\u001b[0;34m\u001b[0m\u001b[0m\n",
            "\u001b[0;31mKeyboardInterrupt\u001b[0m: "
          ]
        }
      ]
    },
    {
      "cell_type": "markdown",
      "metadata": {
        "colab_type": "text",
        "id": "3Roz-iwoVAJE"
      },
      "source": [
        "### 8) Create a latent space walk of the Face Generator you trained (5 points)\n",
        "To that end, generate as many random latents as your animation has number of frames. Then, use a gaussian filter on those latents in order to create a smooth blending between adjacent frames in the animation. Have a look at `scipy.ndimage.gaussian_filter` for that purpose. Make sure that your animation can loop endlessly, i.e. the last frames and the first frames of the animation also blend. The $\\sigma$ value of the gaussian filter defines how many frames are blended; use the given parameter values of the function to control this value.<br>\n",
        "Your output should look like this (or better):\n",
        "\n",
        "<img src='img/Faces_DCGAN_latent_walk_1.gif' style='margin: 0px 10px' align='left' width=\"128\">\n",
        "\n",
        "<img src='img/Faces_DCGAN_latent_walk_2.gif' style='margin: 0px 10px' align='left' width=\"128\">\n",
        "\n",
        "<img src='img/Faces_DCGAN_latent_walk_3.gif' style='margin: 0px 10px' align='left' width=\"128\">"
      ]
    },
    {
      "cell_type": "code",
      "metadata": {
        "colab_type": "code",
        "id": "FUeoPi65VAJE",
        "colab": {}
      },
      "source": [
        "def generate_latent_walk(duration_sec=20.0, smoothing_sec=1.0, fps=30):\n",
        "    #######################################################################################################\n",
        "    # TODO 8: create a smoothly interpolated loop through random latent space values\n",
        "    #######################################################################################################\n",
        "    \n",
        "    images = None #TODO create smoothly interpolating images\n",
        "    \n",
        "    imageio.mimsave(result_dir + '/latent_space_walk.gif', images, fps=fps)\n",
        "\n",
        "#generate_latent_walk()       "
      ],
      "execution_count": 0,
      "outputs": []
    },
    {
      "cell_type": "markdown",
      "metadata": {
        "colab_type": "text",
        "id": "CnA10yZ9VAJF"
      },
      "source": [
        "## Assignment 4B: Conditional DCGAN\n",
        "\n",
        "Our previous Generator network was generating random outputs for each input latent vector without any measure of control over the output. \n",
        "Now, we would like to add some control mechanism such that we can determine the class for a generated image, e.g. generate only the number $5$ or images from the category $Shirt$.\n",
        "\n",
        "The expected output of this GAN should look like this (or better):\n",
        "\n",
        "<img src=\"img/cond_DCGAN_MNIST.png\" align='left' width=\"550\">\n",
        "<img src=\"img/cond_DCGAN_fashionMNIST.png\" align='left' width=\"550\">"
      ]
    },
    {
      "cell_type": "markdown",
      "metadata": {
        "colab_type": "text",
        "id": "i5zjot6wVAJF"
      },
      "source": [
        "For simplicity, we will use either _MNIST_ or _FashionMNIST_ at $32\\times32$ grayscale for this exercise again.\n",
        "\n",
        "For a class-conditioned output, we need to modify both the generator as well as the discriminator network to accept a class label as part of the input. These labels need to be transformed from a \"categorical\" input to a numerical vector. Use `torch.nn.Embedding` to transform the label to such an embedding space."
      ]
    },
    {
      "cell_type": "markdown",
      "metadata": {
        "colab_type": "text",
        "id": "fj1xZrUaVAJF"
      },
      "source": [
        "### 8) Modify Networks for conditional GANs (4 points)"
      ]
    },
    {
      "cell_type": "markdown",
      "metadata": {
        "colab_type": "text",
        "id": "vcGXJXdbVAJG"
      },
      "source": [
        "Select appropriate training hyperparameters."
      ]
    },
    {
      "cell_type": "code",
      "metadata": {
        "colab_type": "code",
        "id": "012C_B9XVAJG",
        "colab": {}
      },
      "source": [
        "# TODO: choose reasonable values\n",
        "batch_size = 32\n",
        "num_epochs = 10\n",
        "learning_rate = 0.0002"
      ],
      "execution_count": 0,
      "outputs": []
    },
    {
      "cell_type": "markdown",
      "metadata": {
        "colab_type": "text",
        "id": "NWe2Gv6RVAJI"
      },
      "source": [
        "### 9) Design a conditional discriminator network (8 points)\n",
        "\n",
        "Below diagrams shows the architecture that you're expected to implement\n",
        "\n",
        "<img src=\"img/DCGAN_discriminator_conditional.png\" align='left' width=\"900\">"
      ]
    },
    {
      "cell_type": "code",
      "metadata": {
        "colab_type": "code",
        "id": "APQoHeTwVAJI",
        "colab": {}
      },
      "source": [
        "#######################################################################################################\n",
        "#TODO 9: update the discriminator network to incorporate the label input\n",
        "#######################################################################################################    \n",
        "class Discriminator(nn.Module):\n",
        "    def __init__(self, n_classes=10):\n",
        "        super().__init__()\n",
        "        self.conv1_1 = nn.Conv2d(1, 128, 4, 2, 1)\n",
        "        self.conv1_1_bn = nn.BatchNorm2d(128)\n",
        "        \n",
        "        self.conv1_2 = nn.Conv2d(128, 256, 4, 2, 1)\n",
        "        self.conv1_2_bn = nn.BatchNorm2d(256)\n",
        "        \n",
        "        self.emb = nn.Embedding(num_embeddings=n_classes, embedding_dim=50)\n",
        "        self.lin = nn.Linear(50,64)\n",
        "        \n",
        "        self.conv2 = nn.Conv2d(257, 512, 4, 2, 1)\n",
        "        self.conv2_bn = nn.BatchNorm2d(512)\n",
        "    \n",
        "        self.conv3 = nn.Conv2d(512, 1, 4, 1, 0)\n",
        "    \n",
        "    def forward(self, input, labels):\n",
        "        x = F.leaky_relu(self.conv1_1_bn(self.conv1_1(input)), 0.2)\n",
        "        x = F.leaky_relu(self.conv1_2_bn(self.conv1_2(x)), 0.2)\n",
        "\n",
        "        \n",
        "        l = self.emb(labels)\n",
        "        l = self.lin(l).view(-1,1,8,8)\n",
        "        x = torch.cat([x, l], 1)\n",
        "\n",
        "        x = F.leaky_relu(self.conv2_bn(self.conv2(x)), 0.2)\n",
        "        x = F.sigmoid(self.conv3(x))\n",
        "        return x\n",
        "    def weight_init(self, mean, std):\n",
        "        for m in self._modules:\n",
        "            normal_init(self._modules[m], mean, std)"
      ],
      "execution_count": 0,
      "outputs": []
    },
    {
      "cell_type": "markdown",
      "metadata": {
        "colab_type": "text",
        "id": "vkOUKrupVAJJ"
      },
      "source": [
        "### 8) Design a conditional generator network (8 points)\n",
        "\n",
        "<img src=\"img/DCGAN_generator_conditional.png\" align='left' width=\"900\">"
      ]
    },
    {
      "cell_type": "code",
      "metadata": {
        "colab_type": "code",
        "id": "eLpQlZKpVAJJ",
        "colab": {}
      },
      "source": [
        "#######################################################################################################\n",
        "#TODO 10: update the generator network to incorporate the label input\n",
        "#######################################################################################################\n",
        "class Generator(nn.Module):\n",
        "    def __init__(self, n_classes=10):\n",
        "        super().__init__()\n",
        "        self.deconv1_1 = nn.ConvTranspose2d(100, 512, 4)\n",
        "        self.deconv1_1_bn = nn.BatchNorm2d(512)\n",
        "        \n",
        "        self.deconv1_2 = nn.ConvTranspose2d(512, 256, 4, 2, 1)\n",
        "        self.deconv1_2_bn = nn.BatchNorm2d(256)\n",
        "        \n",
        "        self.emb = nn.Embedding(num_embeddings=n_classes, embedding_dim=50)\n",
        "        self.lin = nn.Linear(50,64)\n",
        "            \n",
        "        self.deconv2 = nn.ConvTranspose2d(257, 128, 4, 2, 1)\n",
        "        self.deconv2_bn = nn.BatchNorm2d(128)\n",
        "        self.deconv3 = nn.ConvTranspose2d(128, 1, 4, 2, 1)\n",
        "    \n",
        "    def forward(self, input, labels):\n",
        "        # TODO implement forward pass  \n",
        "        x = F.relu(self.deconv1_1_bn(self.deconv1_1(input)))\n",
        "        x = F.relu(self.deconv1_2_bn(self.deconv1_2(x)))\n",
        "\n",
        "\n",
        "        l = self.emb(labels)\n",
        "        l = self.lin(l).view(-1,1,8,8)\n",
        "        x = torch.cat([x, l], 1)\n",
        "        \n",
        "        x = F.relu(self.deconv2_bn(self.deconv2(x)))\n",
        "        x = F.tanh(self.deconv3(x))\n",
        "        #print(x.size())\n",
        "        return x\n",
        "    \n",
        "    def weight_init(self, mean, std):\n",
        "        for m in self._modules:\n",
        "            normal_init(self._modules[m], mean, std)\n",
        "            "
      ],
      "execution_count": 0,
      "outputs": []
    },
    {
      "cell_type": "markdown",
      "metadata": {
        "colab_type": "text",
        "id": "2vUeqctQVAJK"
      },
      "source": [
        "#### Complete the output function (5 points)"
      ]
    },
    {
      "cell_type": "code",
      "metadata": {
        "id": "JhjSiEVQVXZz",
        "colab_type": "code",
        "colab": {}
      },
      "source": [
        "def generate_z_with_labels():\n",
        "    \n",
        "    fixed_z = full_z = torch.rand(1, 100, 1, 1).to(device)\n",
        "    fixed_labels = torch.arange(10).to(device)\n",
        "    z_labels = (torch.rand(batch_size, 1) * 10).type(torch.LongTensor).squeeze().to(device)\n",
        "    \n",
        "    for i in range(9):\n",
        "        full_z = torch.cat([full_z, fixed_z], 0)\n",
        "        \n",
        "    return full_z, fixed_labels\n",
        "\n",
        "# output generated samples from the current state of the generator network\n",
        "n_samples = 5\n",
        "\n",
        "fixed_z, fixed_labels = generate_z_with_labels()\n",
        "    \n",
        "def show_conditional_result(num_epoch, show=False, save=False, n_classes=10, n_samples=5, path='result.png', useFixed=False):\n",
        "    with torch.no_grad():\n",
        "        if useFixed:   \n",
        "            fake = G(fixed_z, fixed_labels).cpu()\n",
        "        else:\n",
        "            z, labels = generate_z_with_labels()\n",
        "            fake = G(z, labels).cpu()\n",
        "\n",
        "        fig, ax = plt.subplots(figsize=(20, 10))\n",
        "        image = utils.make_grid(fake.data, n_classes, 1)\n",
        "\n",
        "        plt.imshow(np.transpose(image, (1, 2, 0)))\n",
        "\n",
        "        ax.axis('off')\n",
        "\n",
        "        plt.savefig(path)\n",
        "\n",
        "        if show:\n",
        "            plt.show()\n",
        "        else:\n",
        "            plt.close()"
      ],
      "execution_count": 0,
      "outputs": []
    },
    {
      "cell_type": "code",
      "metadata": {
        "colab_type": "code",
        "id": "wVZvfN-SVAJK",
        "outputId": "da473cb8-8896-4250-db64-26aba2fb1743",
        "colab": {
          "base_uri": "https://localhost:8080/",
          "height": 197
        }
      },
      "source": [
        "# output generated samples from the current state of the generator network\n",
        "n_samples = 5\n",
        "\n",
        "#######################################################################################################\n",
        "# TODO 11: generate a fixed noise vector and a fixed set of labels to evaluate the output of the generator\n",
        "# with the same noise parameters as training progresses.\n",
        "# Arrange the labels into a grid to show same label outputs in the same column (see example results above) \n",
        "#######################################################################################################\n",
        "\n",
        "def show_conditional_result(num_epoch, show=False, save=False, n_classes=10, n_samples=5, path='result.png', useFixed=True):\n",
        "    with torch.no_grad():\n",
        "        fixed_z = torch.randn(1, 100, 1, 1).to(device)\n",
        "        labels = torch.arange(10).to(device)\n",
        "        fixed_labels = torch.arange(10).to(device)\n",
        "        z = [fixed_z for i in range(10)]\n",
        "        z = torch.cat(z, 0)\n",
        "        if useFixed:   \n",
        "            fake = G(z, labels).cpu()\n",
        "        else:\n",
        "            # TODO generate a new random noise vector and a grid of labels\n",
        "            fixed_z = torch.randn(1, 100, 1, 1).to(device)\n",
        "            labels = torch.arange(10).to(device)\n",
        "            fixed_labels = torch.arange(10).to(device)\n",
        "            z = [fixed_z for i in range(10)]\n",
        "            z = torch.cat(z, 0)\n",
        "\n",
        "            fake = G(z, labels).cpu()\n",
        "            #print(D(fake, labels).view(-1))\n",
        "        fig, ax = plt.subplots(figsize=(20, 10))\n",
        "        image = utils.make_grid(fake.data, n_classes, 1)\n",
        "\n",
        "        plt.imshow(np.transpose(image, (1, 2, 0)))\n",
        "\n",
        "        ax.axis('off')\n",
        "\n",
        "        plt.savefig(path)\n",
        "\n",
        "        if show:\n",
        "            plt.show()\n",
        "        else:\n",
        "            plt.close()   \n",
        "# define networks\n",
        "G = Generator().to(device)\n",
        "D = Discriminator().to(device)\n",
        "show_conditional_result(-1, show=True)"
      ],
      "execution_count": 0,
      "outputs": [
        {
          "output_type": "stream",
          "text": [
            "/usr/local/lib/python3.6/dist-packages/torch/nn/functional.py:1340: UserWarning: nn.functional.tanh is deprecated. Use torch.tanh instead.\n",
            "  warnings.warn(\"nn.functional.tanh is deprecated. Use torch.tanh instead.\")\n",
            "Clipping input data to the valid range for imshow with RGB data ([0..1] for floats or [0..255] for integers).\n"
          ],
          "name": "stderr"
        },
        {
          "output_type": "display_data",
          "data": {
            "image/png": "[encoded data removed]",
            "text/plain": [
              "<Figure size 1440x720 with 1 Axes>"
            ]
          },
          "metadata": {
            "tags": []
          }
        }
      ]
    },
    {
      "cell_type": "markdown",
      "metadata": {
        "colab_type": "text",
        "id": "p46uEo8mVAJL"
      },
      "source": [
        "#### Complete the training setup (5 points) and training loop (10 points)"
      ]
    },
    {
      "cell_type": "code",
      "metadata": {
        "colab_type": "code",
        "id": "8283YkR0-DLq",
        "outputId": "3f374ae4-0778-4531-b4b3-387798d1f6b3",
        "colab": {
          "base_uri": "https://localhost:8080/",
          "height": 68
        }
      },
      "source": [
        "train_dataset = datasets.MNIST('./data/', train=True, download=True,\n",
        "                       transform=transforms.Compose([\n",
        "                           transforms.Resize((32,32), interpolation=2),\n",
        "                           transforms.ToTensor(),\n",
        "                           transforms.Normalize((0.5,), (0.5,))\n",
        "                       ]))\n",
        "\n",
        "print(\"Dataset length: \", len(train_dataset))\n",
        "print(\"Image size: {}\".format(train_dataset[0][0].size()))\n",
        "print(\"value range: [ {} - {} ]\".format(torch.min(train_dataset[0][0]), torch.max(train_dataset[0][0])))"
      ],
      "execution_count": 0,
      "outputs": [
        {
          "output_type": "stream",
          "text": [
            "Dataset length:  60000\n",
            "Image size: torch.Size([1, 32, 32])\n",
            "value range: [ -1.0 - 0.9843137264251709 ]\n"
          ],
          "name": "stdout"
        }
      ]
    },
    {
      "cell_type": "code",
      "metadata": {
        "colab_type": "code",
        "id": "2YB36CSBVAJL",
        "outputId": "d4d67223-4dd7-4def-a501-82bf07cacf02",
        "colab": {
          "base_uri": "https://localhost:8080/",
          "height": 513
        }
      },
      "source": [
        "plt.ion()\n",
        "\n",
        "# define dataloader\n",
        "data_loader = torch.utils.data.DataLoader(train_dataset, batch_size=batch_size, shuffle=True)\n",
        "\n",
        "result_dir = '{}_conditional_DCGAN'.format(dset_name)\n",
        "\n",
        "# results save folder\n",
        "if not os.path.isdir(result_dir):\n",
        "    os.mkdir(result_dir)\n",
        "    \n",
        "\n",
        "#######################################################################################################\n",
        "# TODO 12: define training setup\n",
        "#######################################################################################################\n",
        "\n",
        "# TODO define networks\n",
        "G = Generator().to(device)\n",
        "D = Discriminator().to(device)\n",
        "\n",
        "# TODO define optimizers\n",
        "G_optimizer = optim.Adam(G.parameters(), lr=lr, betas=(0.5, 0.999))\n",
        "D_optimizer = optim.Adam(D.parameters(), lr=lr, betas=(0.5, 0.999))\n",
        "\n",
        "progress = {}\n",
        "progress['D_losses'] = []\n",
        "progress['G_losses'] = []\n",
        "progress['per_epoch_times'] = []\n",
        "progress['total_time'] = []\n",
        "num_iter = 0\n",
        "\n",
        "# start training loop\n",
        "print('Training ...')\n",
        "start_time = time.time()\n",
        "for epoch in range(num_epochs):\n",
        "    \n",
        "    D_losses = []\n",
        "    G_losses = []\n",
        "    \n",
        "    epoch_start_time = time.time()\n",
        "    num_batches = 0\n",
        "    \n",
        "    for real, labels in data_loader:\n",
        "        \n",
        "        real = real.to(device)\n",
        "        batch_size = real.size(0)\n",
        "        labels= labels.to(device)\n",
        "        #######################################################################################################\n",
        "        # TODO 13: Fill code for training loop\n",
        "        #######################################################################################################\n",
        "\n",
        "        # generate random latent vector z and random class assignments for each generated image in the minibatch as well as real and fake labels \n",
        "        z =  torch.randn(batch_size, 100, 1, 1).to(device)\n",
        "        random_labels = torch.LongTensor(batch_size).random_(0, 10).to(device)\n",
        "        fake_labels = torch.zeros(batch_size).to(device)\n",
        "        real_labels = torch.ones(batch_size).to(device)\n",
        "        \n",
        "        # generate fakes    \n",
        "        fakes = G(z, random_labels) \n",
        "        \n",
        "        # evaluate fakes\n",
        "        fake_pred = D(fakes, random_labels).view(-1)\n",
        "        fake_loss = loss(fake_pred, fake_labels)\n",
        "        # evaluate real minibatch\n",
        "        real_pred = D(real, labels).view(-1)\n",
        "        real_loss = loss(real_pred, real_labels)\n",
        "        # accumulate discriminator loss from the information about the real and fake images it just saw\n",
        "        D_train_loss = fake_loss + real_loss      \n",
        "\n",
        "        # train discriminator D step\n",
        "        D.zero_grad()\n",
        "        D_train_loss.backward()\n",
        "        D_optimizer.step()  \n",
        "\n",
        "        # train generator to output an image that is classified as real\n",
        "        fakes = G(z, random_labels)\n",
        "        fake_pred = D(fakes, random_labels).view(-1)\n",
        "        G_train_loss = loss(fake_pred, real_labels)    \n",
        "        \n",
        "        \n",
        "        # train generator G step\n",
        "        G.zero_grad()\n",
        "        G_train_loss.backward()\n",
        "        G_optimizer.step()              \n",
        "\n",
        "        D_losses.append(D_train_loss.data.item())\n",
        "        G_losses.append(G_train_loss.data.item())\n",
        "        \n",
        "        epoch_end_time = time.time()\n",
        "    per_epoch_time = epoch_end_time - epoch_start_time\n",
        "    \n",
        "    print('Epoch [{} / {}] G loss: {} D loss: {}'.format(epoch + 1, num_epochs, G_train_loss, D_train_loss))\n",
        "\n",
        "    show_conditional_result( epoch, save=True, show=True, path=result_dir + '/{}_conditional_DCGAN_{}.png'.format(dset_name, epoch), useFixed=True )\n",
        "    progress['D_losses'].append(torch.mean(torch.FloatTensor(D_losses)))\n",
        "    progress['G_losses'].append(torch.mean(torch.FloatTensor(G_losses)))\n",
        "    progress['per_epoch_times'].append(per_epoch_time)\n",
        "     \n",
        "end_time = time.time()\n",
        "total_time = end_time - start_time\n",
        "progress['total_time'].append(total_time)\n",
        "\n",
        "print('Avg per epoch time: {:.2f} sec, total {:d} epochs time: {:.2f} min'.format(torch.mean(torch.FloatTensor(progress['per_epoch_times'])), num_epochs, total_time / 60))\n",
        "print('Training finished!')\n",
        "print('...saving training results')\n",
        "\n",
        "torch.save(G.state_dict(), result_dir + '/generator_network.pkl')\n",
        "torch.save(D.state_dict(), result_dir + '/discriminator_network.pkl')\n",
        "with open(result_dir + '/progress.pkl', 'wb') as f:\n",
        "    pickle.dump(progress, f)\n",
        "\n",
        "# plot loss curves\n",
        "plot_losses(progress, save=True, path=result_dir + '/{}_DCGAN_progress.png'.format(dset_name))\n",
        "\n",
        "# show training progress as animation\n",
        "images = []\n",
        "for e in range(num_epochs):\n",
        "    img_name = result_dir + '/{}_conditional_DCGAN_{}.png'.format(dset_name, e)\n",
        "    images.append(imageio.imread(img_name))\n",
        "imageio.mimsave(result_dir + '/conditional_DCGAN_generation_animation.gif', images, fps=5)"
      ],
      "execution_count": 0,
      "outputs": [
        {
          "output_type": "stream",
          "text": [
            "Training ...\n"
          ],
          "name": "stdout"
        },
        {
          "output_type": "stream",
          "text": [
            "/usr/local/lib/python3.6/dist-packages/torch/nn/functional.py:1340: UserWarning: nn.functional.tanh is deprecated. Use torch.tanh instead.\n",
            "  warnings.warn(\"nn.functional.tanh is deprecated. Use torch.tanh instead.\")\n",
            "/usr/local/lib/python3.6/dist-packages/torch/nn/functional.py:1351: UserWarning: nn.functional.sigmoid is deprecated. Use torch.sigmoid instead.\n",
            "  warnings.warn(\"nn.functional.sigmoid is deprecated. Use torch.sigmoid instead.\")\n",
            "Clipping input data to the valid range for imshow with RGB data ([0..1] for floats or [0..255] for integers).\n"
          ],
          "name": "stderr"
        },
        {
          "output_type": "stream",
          "text": [
            "Epoch [1 / 30] G loss: 5.318337917327881 D loss: 0.04498403146862984\n"
          ],
          "name": "stdout"
        },
        {
          "output_type": "display_data",
          "data": {
            "image/png": "[encoded data removed]",
            "text/plain": [
              "<Figure size 1440x720 with 1 Axes>"
            ]
          },
          "metadata": {
            "tags": []
          }
        },
        {
          "output_type": "stream",
          "text": [
            "Exception ignored in: <bound method Image.__del__ of <PIL.Image.Image image mode=L size=32x32 at 0x7F377189CA58>>\n",
            "Traceback (most recent call last):\n",
            "  File \"/usr/local/lib/python3.6/dist-packages/PIL/Image.py\", line 585, in __del__\n",
            "    if (hasattr(self, 'fp') and hasattr(self, '_exclusive_fp')\n",
            "KeyboardInterrupt\n",
            "Clipping input data to the valid range for imshow with RGB data ([0..1] for floats or [0..255] for integers).\n"
          ],
          "name": "stderr"
        },
        {
          "output_type": "stream",
          "text": [
            "Epoch [2 / 30] G loss: 4.901525497436523 D loss: 0.016367752104997635\n"
          ],
          "name": "stdout"
        },
        {
          "output_type": "display_data",
          "data": {
            "image/png": "[encoded data removed]",
            "text/plain": [
              "<Figure size 1440x720 with 1 Axes>"
            ]
          },
          "metadata": {
            "tags": []
          }
        }
      ]
    },
    {
      "cell_type": "markdown",
      "metadata": {
        "colab_type": "text",
        "id": "UiR5yXhEVAJM"
      },
      "source": [
        "### Display the animated generation GIF\n",
        "\n",
        "% **TODO: edit path to GIF** %\n",
        "\n",
        "<img src='full_path_to_gif.gif' width=\"512\">"
      ]
    },
    {
      "cell_type": "code",
      "metadata": {
        "id": "3cXxZJYGUU4K",
        "colab_type": "code",
        "colab": {}
      },
      "source": [
        ""
      ],
      "execution_count": 0,
      "outputs": []
    }
  ]
}